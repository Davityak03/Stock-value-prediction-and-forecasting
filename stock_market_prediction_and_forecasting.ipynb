{
  "nbformat": 4,
  "nbformat_minor": 0,
  "metadata": {
    "colab": {
      "provenance": []
    },
    "kernelspec": {
      "name": "python3",
      "display_name": "Python 3"
    },
    "language_info": {
      "name": "python"
    }
  },
  "cells": [
    {
      "cell_type": "code",
      "source": [
        "!pip install pandas==1.5.3\n",
        "!pip install pandas_datareader==0.10.0"
      ],
      "metadata": {
        "colab": {
          "base_uri": "https://localhost:8080/"
        },
        "id": "Y5yRSiq3p2yE",
        "outputId": "4d542147-8320-405b-e2f6-f505a29e37d6"
      },
      "execution_count": 1,
      "outputs": [
        {
          "output_type": "stream",
          "name": "stdout",
          "text": [
            "Collecting pandas==1.5.3\n",
            "  Downloading pandas-1.5.3-cp310-cp310-manylinux_2_17_x86_64.manylinux2014_x86_64.whl.metadata (11 kB)\n",
            "Requirement already satisfied: python-dateutil>=2.8.1 in /usr/local/lib/python3.10/dist-packages (from pandas==1.5.3) (2.8.2)\n",
            "Requirement already satisfied: pytz>=2020.1 in /usr/local/lib/python3.10/dist-packages (from pandas==1.5.3) (2024.1)\n",
            "Requirement already satisfied: numpy>=1.21.0 in /usr/local/lib/python3.10/dist-packages (from pandas==1.5.3) (1.25.2)\n",
            "Requirement already satisfied: six>=1.5 in /usr/local/lib/python3.10/dist-packages (from python-dateutil>=2.8.1->pandas==1.5.3) (1.16.0)\n",
            "Downloading pandas-1.5.3-cp310-cp310-manylinux_2_17_x86_64.manylinux2014_x86_64.whl (12.1 MB)\n",
            "\u001b[2K   \u001b[90m━━━━━━━━━━━━━━━━━━━━━━━━━━━━━━━━━━━━━━━━\u001b[0m \u001b[32m12.1/12.1 MB\u001b[0m \u001b[31m55.9 MB/s\u001b[0m eta \u001b[36m0:00:00\u001b[0m\n",
            "\u001b[?25hInstalling collected packages: pandas\n",
            "  Attempting uninstall: pandas\n",
            "    Found existing installation: pandas 2.0.3\n",
            "    Uninstalling pandas-2.0.3:\n",
            "      Successfully uninstalled pandas-2.0.3\n",
            "\u001b[31mERROR: pip's dependency resolver does not currently take into account all the packages that are installed. This behaviour is the source of the following dependency conflicts.\n",
            "cudf-cu12 24.4.1 requires pandas<2.2.2dev0,>=2.0, but you have pandas 1.5.3 which is incompatible.\n",
            "google-colab 1.0.0 requires pandas==2.0.3, but you have pandas 1.5.3 which is incompatible.\n",
            "xarray 2024.6.0 requires pandas>=2.0, but you have pandas 1.5.3 which is incompatible.\u001b[0m\u001b[31m\n",
            "\u001b[0mSuccessfully installed pandas-1.5.3\n",
            "Requirement already satisfied: pandas_datareader==0.10.0 in /usr/local/lib/python3.10/dist-packages (0.10.0)\n",
            "Requirement already satisfied: lxml in /usr/local/lib/python3.10/dist-packages (from pandas_datareader==0.10.0) (4.9.4)\n",
            "Requirement already satisfied: pandas>=0.23 in /usr/local/lib/python3.10/dist-packages (from pandas_datareader==0.10.0) (1.5.3)\n",
            "Requirement already satisfied: requests>=2.19.0 in /usr/local/lib/python3.10/dist-packages (from pandas_datareader==0.10.0) (2.31.0)\n",
            "Requirement already satisfied: python-dateutil>=2.8.1 in /usr/local/lib/python3.10/dist-packages (from pandas>=0.23->pandas_datareader==0.10.0) (2.8.2)\n",
            "Requirement already satisfied: pytz>=2020.1 in /usr/local/lib/python3.10/dist-packages (from pandas>=0.23->pandas_datareader==0.10.0) (2024.1)\n",
            "Requirement already satisfied: numpy>=1.21.0 in /usr/local/lib/python3.10/dist-packages (from pandas>=0.23->pandas_datareader==0.10.0) (1.25.2)\n",
            "Requirement already satisfied: charset-normalizer<4,>=2 in /usr/local/lib/python3.10/dist-packages (from requests>=2.19.0->pandas_datareader==0.10.0) (3.3.2)\n",
            "Requirement already satisfied: idna<4,>=2.5 in /usr/local/lib/python3.10/dist-packages (from requests>=2.19.0->pandas_datareader==0.10.0) (3.7)\n",
            "Requirement already satisfied: urllib3<3,>=1.21.1 in /usr/local/lib/python3.10/dist-packages (from requests>=2.19.0->pandas_datareader==0.10.0) (2.0.7)\n",
            "Requirement already satisfied: certifi>=2017.4.17 in /usr/local/lib/python3.10/dist-packages (from requests>=2.19.0->pandas_datareader==0.10.0) (2024.7.4)\n",
            "Requirement already satisfied: six>=1.5 in /usr/local/lib/python3.10/dist-packages (from python-dateutil>=2.8.1->pandas>=0.23->pandas_datareader==0.10.0) (1.16.0)\n"
          ]
        }
      ]
    },
    {
      "cell_type": "code",
      "execution_count": 2,
      "metadata": {
        "id": "jm6bMLN1SXUI"
      },
      "outputs": [],
      "source": [
        "import pandas_datareader as pdr\n",
        "from datetime import datetime"
      ]
    },
    {
      "cell_type": "code",
      "source": [
        "key=\"API_KEY\"\n",
        "df=pdr.get_data_tiingo(\"AAPL\",api_key=key)"
      ],
      "metadata": {
        "colab": {
          "base_uri": "https://localhost:8080/"
        },
        "id": "ctzoPkCmku85",
        "outputId": "90ef2cd3-fd62-4b1e-bd72-6b5d5b9184bc"
      },
      "execution_count": 3,
      "outputs": [
        {
          "output_type": "stream",
          "name": "stderr",
          "text": [
            "<ipython-input-3-b7ec59fe52e0>:2: FutureWarning: In a future version of pandas all arguments of concat except for the argument 'objs' will be keyword-only.\n",
            "  df=pdr.get_data_tiingo(\"AAPL\",api_key=key)\n"
          ]
        }
      ]
    },
    {
      "cell_type": "code",
      "source": [
        "df.to_csv(\"AAPL.csv\")"
      ],
      "metadata": {
        "id": "MCEJpTREk1c9"
      },
      "execution_count": 4,
      "outputs": []
    },
    {
      "cell_type": "code",
      "source": [
        "import pandas as pd\n",
        "df=pd.read_csv(\"AAPL.csv\")"
      ],
      "metadata": {
        "id": "0VuU8Ew-qJe2"
      },
      "execution_count": 3,
      "outputs": []
    },
    {
      "cell_type": "code",
      "source": [
        "df2=df.reset_index()[\"close\"]"
      ],
      "metadata": {
        "id": "4JohnaGJqTcb"
      },
      "execution_count": 4,
      "outputs": []
    },
    {
      "cell_type": "code",
      "source": [
        "df.head()"
      ],
      "metadata": {
        "colab": {
          "base_uri": "https://localhost:8080/",
          "height": 293
        },
        "id": "rUC-6B3uqaw8",
        "outputId": "10e61cd9-d611-4f2a-c020-42e462524566"
      },
      "execution_count": 5,
      "outputs": [
        {
          "output_type": "execute_result",
          "data": {
            "text/plain": [
              "  symbol                       date   close    high     low    open    volume  \\\n",
              "0   AAPL  2019-07-29 00:00:00+00:00  209.68  210.64  208.44  208.46  21673389   \n",
              "1   AAPL  2019-07-30 00:00:00+00:00  208.78  210.16  207.31  208.76  33935718   \n",
              "2   AAPL  2019-07-31 00:00:00+00:00  213.04  221.37  211.30  216.42  69281361   \n",
              "3   AAPL  2019-08-01 00:00:00+00:00  208.43  218.03  206.74  213.90  54017922   \n",
              "4   AAPL  2019-08-02 00:00:00+00:00  204.02  206.43  201.63  205.53  40862122   \n",
              "\n",
              "    adjClose    adjHigh     adjLow    adjOpen  adjVolume  divCash  splitFactor  \n",
              "0  50.591067  50.822693  50.291883  50.296708   86693556      0.0          1.0  \n",
              "1  50.373917  50.706880  50.019239  50.369092  135742872      0.0          1.0  \n",
              "2  51.401759  53.411601  50.981936  52.217277  277125444      0.0          1.0  \n",
              "3  50.289470  52.605734  49.881711  51.609258  216071688      0.0          1.0  \n",
              "4  49.225436  49.806915  48.648783  49.589765  163448488      0.0          1.0  "
            ],
            "text/html": [
              "\n",
              "  <div id=\"df-cd9c152e-92f4-44c3-a35b-d5437df9e4b8\" class=\"colab-df-container\">\n",
              "    <div>\n",
              "<style scoped>\n",
              "    .dataframe tbody tr th:only-of-type {\n",
              "        vertical-align: middle;\n",
              "    }\n",
              "\n",
              "    .dataframe tbody tr th {\n",
              "        vertical-align: top;\n",
              "    }\n",
              "\n",
              "    .dataframe thead th {\n",
              "        text-align: right;\n",
              "    }\n",
              "</style>\n",
              "<table border=\"1\" class=\"dataframe\">\n",
              "  <thead>\n",
              "    <tr style=\"text-align: right;\">\n",
              "      <th></th>\n",
              "      <th>symbol</th>\n",
              "      <th>date</th>\n",
              "      <th>close</th>\n",
              "      <th>high</th>\n",
              "      <th>low</th>\n",
              "      <th>open</th>\n",
              "      <th>volume</th>\n",
              "      <th>adjClose</th>\n",
              "      <th>adjHigh</th>\n",
              "      <th>adjLow</th>\n",
              "      <th>adjOpen</th>\n",
              "      <th>adjVolume</th>\n",
              "      <th>divCash</th>\n",
              "      <th>splitFactor</th>\n",
              "    </tr>\n",
              "  </thead>\n",
              "  <tbody>\n",
              "    <tr>\n",
              "      <th>0</th>\n",
              "      <td>AAPL</td>\n",
              "      <td>2019-07-29 00:00:00+00:00</td>\n",
              "      <td>209.68</td>\n",
              "      <td>210.64</td>\n",
              "      <td>208.44</td>\n",
              "      <td>208.46</td>\n",
              "      <td>21673389</td>\n",
              "      <td>50.591067</td>\n",
              "      <td>50.822693</td>\n",
              "      <td>50.291883</td>\n",
              "      <td>50.296708</td>\n",
              "      <td>86693556</td>\n",
              "      <td>0.0</td>\n",
              "      <td>1.0</td>\n",
              "    </tr>\n",
              "    <tr>\n",
              "      <th>1</th>\n",
              "      <td>AAPL</td>\n",
              "      <td>2019-07-30 00:00:00+00:00</td>\n",
              "      <td>208.78</td>\n",
              "      <td>210.16</td>\n",
              "      <td>207.31</td>\n",
              "      <td>208.76</td>\n",
              "      <td>33935718</td>\n",
              "      <td>50.373917</td>\n",
              "      <td>50.706880</td>\n",
              "      <td>50.019239</td>\n",
              "      <td>50.369092</td>\n",
              "      <td>135742872</td>\n",
              "      <td>0.0</td>\n",
              "      <td>1.0</td>\n",
              "    </tr>\n",
              "    <tr>\n",
              "      <th>2</th>\n",
              "      <td>AAPL</td>\n",
              "      <td>2019-07-31 00:00:00+00:00</td>\n",
              "      <td>213.04</td>\n",
              "      <td>221.37</td>\n",
              "      <td>211.30</td>\n",
              "      <td>216.42</td>\n",
              "      <td>69281361</td>\n",
              "      <td>51.401759</td>\n",
              "      <td>53.411601</td>\n",
              "      <td>50.981936</td>\n",
              "      <td>52.217277</td>\n",
              "      <td>277125444</td>\n",
              "      <td>0.0</td>\n",
              "      <td>1.0</td>\n",
              "    </tr>\n",
              "    <tr>\n",
              "      <th>3</th>\n",
              "      <td>AAPL</td>\n",
              "      <td>2019-08-01 00:00:00+00:00</td>\n",
              "      <td>208.43</td>\n",
              "      <td>218.03</td>\n",
              "      <td>206.74</td>\n",
              "      <td>213.90</td>\n",
              "      <td>54017922</td>\n",
              "      <td>50.289470</td>\n",
              "      <td>52.605734</td>\n",
              "      <td>49.881711</td>\n",
              "      <td>51.609258</td>\n",
              "      <td>216071688</td>\n",
              "      <td>0.0</td>\n",
              "      <td>1.0</td>\n",
              "    </tr>\n",
              "    <tr>\n",
              "      <th>4</th>\n",
              "      <td>AAPL</td>\n",
              "      <td>2019-08-02 00:00:00+00:00</td>\n",
              "      <td>204.02</td>\n",
              "      <td>206.43</td>\n",
              "      <td>201.63</td>\n",
              "      <td>205.53</td>\n",
              "      <td>40862122</td>\n",
              "      <td>49.225436</td>\n",
              "      <td>49.806915</td>\n",
              "      <td>48.648783</td>\n",
              "      <td>49.589765</td>\n",
              "      <td>163448488</td>\n",
              "      <td>0.0</td>\n",
              "      <td>1.0</td>\n",
              "    </tr>\n",
              "  </tbody>\n",
              "</table>\n",
              "</div>\n",
              "    <div class=\"colab-df-buttons\">\n",
              "\n",
              "  <div class=\"colab-df-container\">\n",
              "    <button class=\"colab-df-convert\" onclick=\"convertToInteractive('df-cd9c152e-92f4-44c3-a35b-d5437df9e4b8')\"\n",
              "            title=\"Convert this dataframe to an interactive table.\"\n",
              "            style=\"display:none;\">\n",
              "\n",
              "  <svg xmlns=\"http://www.w3.org/2000/svg\" height=\"24px\" viewBox=\"0 -960 960 960\">\n",
              "    <path d=\"M120-120v-720h720v720H120Zm60-500h600v-160H180v160Zm220 220h160v-160H400v160Zm0 220h160v-160H400v160ZM180-400h160v-160H180v160Zm440 0h160v-160H620v160ZM180-180h160v-160H180v160Zm440 0h160v-160H620v160Z\"/>\n",
              "  </svg>\n",
              "    </button>\n",
              "\n",
              "  <style>\n",
              "    .colab-df-container {\n",
              "      display:flex;\n",
              "      gap: 12px;\n",
              "    }\n",
              "\n",
              "    .colab-df-convert {\n",
              "      background-color: #E8F0FE;\n",
              "      border: none;\n",
              "      border-radius: 50%;\n",
              "      cursor: pointer;\n",
              "      display: none;\n",
              "      fill: #1967D2;\n",
              "      height: 32px;\n",
              "      padding: 0 0 0 0;\n",
              "      width: 32px;\n",
              "    }\n",
              "\n",
              "    .colab-df-convert:hover {\n",
              "      background-color: #E2EBFA;\n",
              "      box-shadow: 0px 1px 2px rgba(60, 64, 67, 0.3), 0px 1px 3px 1px rgba(60, 64, 67, 0.15);\n",
              "      fill: #174EA6;\n",
              "    }\n",
              "\n",
              "    .colab-df-buttons div {\n",
              "      margin-bottom: 4px;\n",
              "    }\n",
              "\n",
              "    [theme=dark] .colab-df-convert {\n",
              "      background-color: #3B4455;\n",
              "      fill: #D2E3FC;\n",
              "    }\n",
              "\n",
              "    [theme=dark] .colab-df-convert:hover {\n",
              "      background-color: #434B5C;\n",
              "      box-shadow: 0px 1px 3px 1px rgba(0, 0, 0, 0.15);\n",
              "      filter: drop-shadow(0px 1px 2px rgba(0, 0, 0, 0.3));\n",
              "      fill: #FFFFFF;\n",
              "    }\n",
              "  </style>\n",
              "\n",
              "    <script>\n",
              "      const buttonEl =\n",
              "        document.querySelector('#df-cd9c152e-92f4-44c3-a35b-d5437df9e4b8 button.colab-df-convert');\n",
              "      buttonEl.style.display =\n",
              "        google.colab.kernel.accessAllowed ? 'block' : 'none';\n",
              "\n",
              "      async function convertToInteractive(key) {\n",
              "        const element = document.querySelector('#df-cd9c152e-92f4-44c3-a35b-d5437df9e4b8');\n",
              "        const dataTable =\n",
              "          await google.colab.kernel.invokeFunction('convertToInteractive',\n",
              "                                                    [key], {});\n",
              "        if (!dataTable) return;\n",
              "\n",
              "        const docLinkHtml = 'Like what you see? Visit the ' +\n",
              "          '<a target=\"_blank\" href=https://colab.research.google.com/notebooks/data_table.ipynb>data table notebook</a>'\n",
              "          + ' to learn more about interactive tables.';\n",
              "        element.innerHTML = '';\n",
              "        dataTable['output_type'] = 'display_data';\n",
              "        await google.colab.output.renderOutput(dataTable, element);\n",
              "        const docLink = document.createElement('div');\n",
              "        docLink.innerHTML = docLinkHtml;\n",
              "        element.appendChild(docLink);\n",
              "      }\n",
              "    </script>\n",
              "  </div>\n",
              "\n",
              "\n",
              "<div id=\"df-52bc3a67-fa07-4cd8-8469-32c5dd25465e\">\n",
              "  <button class=\"colab-df-quickchart\" onclick=\"quickchart('df-52bc3a67-fa07-4cd8-8469-32c5dd25465e')\"\n",
              "            title=\"Suggest charts\"\n",
              "            style=\"display:none;\">\n",
              "\n",
              "<svg xmlns=\"http://www.w3.org/2000/svg\" height=\"24px\"viewBox=\"0 0 24 24\"\n",
              "     width=\"24px\">\n",
              "    <g>\n",
              "        <path d=\"M19 3H5c-1.1 0-2 .9-2 2v14c0 1.1.9 2 2 2h14c1.1 0 2-.9 2-2V5c0-1.1-.9-2-2-2zM9 17H7v-7h2v7zm4 0h-2V7h2v10zm4 0h-2v-4h2v4z\"/>\n",
              "    </g>\n",
              "</svg>\n",
              "  </button>\n",
              "\n",
              "<style>\n",
              "  .colab-df-quickchart {\n",
              "      --bg-color: #E8F0FE;\n",
              "      --fill-color: #1967D2;\n",
              "      --hover-bg-color: #E2EBFA;\n",
              "      --hover-fill-color: #174EA6;\n",
              "      --disabled-fill-color: #AAA;\n",
              "      --disabled-bg-color: #DDD;\n",
              "  }\n",
              "\n",
              "  [theme=dark] .colab-df-quickchart {\n",
              "      --bg-color: #3B4455;\n",
              "      --fill-color: #D2E3FC;\n",
              "      --hover-bg-color: #434B5C;\n",
              "      --hover-fill-color: #FFFFFF;\n",
              "      --disabled-bg-color: #3B4455;\n",
              "      --disabled-fill-color: #666;\n",
              "  }\n",
              "\n",
              "  .colab-df-quickchart {\n",
              "    background-color: var(--bg-color);\n",
              "    border: none;\n",
              "    border-radius: 50%;\n",
              "    cursor: pointer;\n",
              "    display: none;\n",
              "    fill: var(--fill-color);\n",
              "    height: 32px;\n",
              "    padding: 0;\n",
              "    width: 32px;\n",
              "  }\n",
              "\n",
              "  .colab-df-quickchart:hover {\n",
              "    background-color: var(--hover-bg-color);\n",
              "    box-shadow: 0 1px 2px rgba(60, 64, 67, 0.3), 0 1px 3px 1px rgba(60, 64, 67, 0.15);\n",
              "    fill: var(--button-hover-fill-color);\n",
              "  }\n",
              "\n",
              "  .colab-df-quickchart-complete:disabled,\n",
              "  .colab-df-quickchart-complete:disabled:hover {\n",
              "    background-color: var(--disabled-bg-color);\n",
              "    fill: var(--disabled-fill-color);\n",
              "    box-shadow: none;\n",
              "  }\n",
              "\n",
              "  .colab-df-spinner {\n",
              "    border: 2px solid var(--fill-color);\n",
              "    border-color: transparent;\n",
              "    border-bottom-color: var(--fill-color);\n",
              "    animation:\n",
              "      spin 1s steps(1) infinite;\n",
              "  }\n",
              "\n",
              "  @keyframes spin {\n",
              "    0% {\n",
              "      border-color: transparent;\n",
              "      border-bottom-color: var(--fill-color);\n",
              "      border-left-color: var(--fill-color);\n",
              "    }\n",
              "    20% {\n",
              "      border-color: transparent;\n",
              "      border-left-color: var(--fill-color);\n",
              "      border-top-color: var(--fill-color);\n",
              "    }\n",
              "    30% {\n",
              "      border-color: transparent;\n",
              "      border-left-color: var(--fill-color);\n",
              "      border-top-color: var(--fill-color);\n",
              "      border-right-color: var(--fill-color);\n",
              "    }\n",
              "    40% {\n",
              "      border-color: transparent;\n",
              "      border-right-color: var(--fill-color);\n",
              "      border-top-color: var(--fill-color);\n",
              "    }\n",
              "    60% {\n",
              "      border-color: transparent;\n",
              "      border-right-color: var(--fill-color);\n",
              "    }\n",
              "    80% {\n",
              "      border-color: transparent;\n",
              "      border-right-color: var(--fill-color);\n",
              "      border-bottom-color: var(--fill-color);\n",
              "    }\n",
              "    90% {\n",
              "      border-color: transparent;\n",
              "      border-bottom-color: var(--fill-color);\n",
              "    }\n",
              "  }\n",
              "</style>\n",
              "\n",
              "  <script>\n",
              "    async function quickchart(key) {\n",
              "      const quickchartButtonEl =\n",
              "        document.querySelector('#' + key + ' button');\n",
              "      quickchartButtonEl.disabled = true;  // To prevent multiple clicks.\n",
              "      quickchartButtonEl.classList.add('colab-df-spinner');\n",
              "      try {\n",
              "        const charts = await google.colab.kernel.invokeFunction(\n",
              "            'suggestCharts', [key], {});\n",
              "      } catch (error) {\n",
              "        console.error('Error during call to suggestCharts:', error);\n",
              "      }\n",
              "      quickchartButtonEl.classList.remove('colab-df-spinner');\n",
              "      quickchartButtonEl.classList.add('colab-df-quickchart-complete');\n",
              "    }\n",
              "    (() => {\n",
              "      let quickchartButtonEl =\n",
              "        document.querySelector('#df-52bc3a67-fa07-4cd8-8469-32c5dd25465e button');\n",
              "      quickchartButtonEl.style.display =\n",
              "        google.colab.kernel.accessAllowed ? 'block' : 'none';\n",
              "    })();\n",
              "  </script>\n",
              "</div>\n",
              "\n",
              "    </div>\n",
              "  </div>\n"
            ],
            "application/vnd.google.colaboratory.intrinsic+json": {
              "type": "dataframe",
              "variable_name": "df",
              "summary": "{\n  \"name\": \"df\",\n  \"rows\": 1258,\n  \"fields\": [\n    {\n      \"column\": \"symbol\",\n      \"properties\": {\n        \"dtype\": \"category\",\n        \"num_unique_values\": 1,\n        \"samples\": [\n          \"AAPL\"\n        ],\n        \"semantic_type\": \"\",\n        \"description\": \"\"\n      }\n    },\n    {\n      \"column\": \"date\",\n      \"properties\": {\n        \"dtype\": \"object\",\n        \"num_unique_values\": 1258,\n        \"samples\": [\n          \"2021-10-18 00:00:00+00:00\"\n        ],\n        \"semantic_type\": \"\",\n        \"description\": \"\"\n      }\n    },\n    {\n      \"column\": \"close\",\n      \"properties\": {\n        \"dtype\": \"number\",\n        \"std\": 69.31858937842382,\n        \"min\": 106.84,\n        \"max\": 506.09,\n        \"num_unique_values\": 1196,\n        \"samples\": [\n          162.74\n        ],\n        \"semantic_type\": \"\",\n        \"description\": \"\"\n      }\n    },\n    {\n      \"column\": \"high\",\n      \"properties\": {\n        \"dtype\": \"number\",\n        \"std\": 69.97516311084995,\n        \"min\": 110.19,\n        \"max\": 515.14,\n        \"num_unique_values\": 1211,\n        \"samples\": [\n          284.25\n        ],\n        \"semantic_type\": \"\",\n        \"description\": \"\"\n      }\n    },\n    {\n      \"column\": \"low\",\n      \"properties\": {\n        \"dtype\": \"number\",\n        \"std\": 68.31182788958431,\n        \"min\": 103.1,\n        \"max\": 500.33,\n        \"num_unique_values\": 1222,\n        \"samples\": [\n          353.02\n        ],\n        \"semantic_type\": \"\",\n        \"description\": \"\"\n      }\n    },\n    {\n      \"column\": \"open\",\n      \"properties\": {\n        \"dtype\": \"number\",\n        \"std\": 69.04026148427118,\n        \"min\": 104.54,\n        \"max\": 514.79,\n        \"num_unique_values\": 1201,\n        \"samples\": [\n          385.67\n        ],\n        \"semantic_type\": \"\",\n        \"description\": \"\"\n      }\n    },\n    {\n      \"column\": \"volume\",\n      \"properties\": {\n        \"dtype\": \"number\",\n        \"std\": 37226035,\n        \"min\": 11654363,\n        \"max\": 332607163,\n        \"num_unique_values\": 1258,\n        \"samples\": [\n          85589175\n        ],\n        \"semantic_type\": \"\",\n        \"description\": \"\"\n      }\n    },\n    {\n      \"column\": \"adjClose\",\n      \"properties\": {\n        \"dtype\": \"number\",\n        \"std\": 42.50713575048164,\n        \"min\": 46.6485924822,\n        \"max\": 234.82,\n        \"num_unique_values\": 1245,\n        \"samples\": [\n          144.2307217024\n        ],\n        \"semantic_type\": \"\",\n        \"description\": \"\"\n      }\n    },\n    {\n      \"column\": \"adjHigh\",\n      \"properties\": {\n        \"dtype\": \"number\",\n        \"std\": 42.81134944828633,\n        \"min\": 47.7898350727,\n        \"max\": 237.23,\n        \"num_unique_values\": 1246,\n        \"samples\": [\n          145.0020089843\n        ],\n        \"semantic_type\": \"\",\n        \"description\": \"\"\n      }\n    },\n    {\n      \"column\": \"adjLow\",\n      \"properties\": {\n        \"dtype\": \"number\",\n        \"std\": 42.208758564134115,\n        \"min\": 46.4652215797,\n        \"max\": 233.09,\n        \"num_unique_values\": 1251,\n        \"samples\": [\n          130.011348481\n        ],\n        \"semantic_type\": \"\",\n        \"description\": \"\"\n      }\n    },\n    {\n      \"column\": \"adjOpen\",\n      \"properties\": {\n        \"dtype\": \"number\",\n        \"std\": 42.51521061512452,\n        \"min\": 47.148036914,\n        \"max\": 236.48,\n        \"num_unique_values\": 1244,\n        \"samples\": [\n          153.1352496075\n        ],\n        \"semantic_type\": \"\",\n        \"description\": \"\"\n      }\n    },\n    {\n      \"column\": \"adjVolume\",\n      \"properties\": {\n        \"dtype\": \"number\",\n        \"std\": 52452819,\n        \"min\": 24048344,\n        \"max\": 426884920,\n        \"num_unique_values\": 1258,\n        \"samples\": [\n          85589175\n        ],\n        \"semantic_type\": \"\",\n        \"description\": \"\"\n      }\n    },\n    {\n      \"column\": \"divCash\",\n      \"properties\": {\n        \"dtype\": \"number\",\n        \"std\": 0.055432578282774675,\n        \"min\": 0.0,\n        \"max\": 0.82,\n        \"num_unique_values\": 8,\n        \"samples\": [\n          0.77\n        ],\n        \"semantic_type\": \"\",\n        \"description\": \"\"\n      }\n    },\n    {\n      \"column\": \"splitFactor\",\n      \"properties\": {\n        \"dtype\": \"number\",\n        \"std\": 0.08458258116519014,\n        \"min\": 1.0,\n        \"max\": 4.0,\n        \"num_unique_values\": 2,\n        \"samples\": [\n          4.0\n        ],\n        \"semantic_type\": \"\",\n        \"description\": \"\"\n      }\n    }\n  ]\n}"
            }
          },
          "metadata": {},
          "execution_count": 5
        }
      ]
    },
    {
      "cell_type": "code",
      "source": [
        "df2.head()"
      ],
      "metadata": {
        "colab": {
          "base_uri": "https://localhost:8080/"
        },
        "id": "Yx3AeFfxqh2l",
        "outputId": "a433b1d1-cc22-4a42-e457-8f1d3fc21af5"
      },
      "execution_count": 6,
      "outputs": [
        {
          "output_type": "execute_result",
          "data": {
            "text/plain": [
              "0    209.68\n",
              "1    208.78\n",
              "2    213.04\n",
              "3    208.43\n",
              "4    204.02\n",
              "Name: close, dtype: float64"
            ]
          },
          "metadata": {},
          "execution_count": 6
        }
      ]
    },
    {
      "cell_type": "code",
      "source": [
        "import matplotlib.pyplot as plt\n",
        "plt.plot(df2)"
      ],
      "metadata": {
        "colab": {
          "base_uri": "https://localhost:8080/",
          "height": 447
        },
        "id": "6pgo6OPzqnuv",
        "outputId": "50b7fc08-1963-4319-ed54-bbcf26768c27"
      },
      "execution_count": 7,
      "outputs": [
        {
          "output_type": "execute_result",
          "data": {
            "text/plain": [
              "[<matplotlib.lines.Line2D at 0x7bcbbc28de40>]"
            ]
          },
          "metadata": {},
          "execution_count": 7
        },
        {
          "output_type": "display_data",
          "data": {
            "text/plain": [
              "<Figure size 640x480 with 1 Axes>"
            ],
            "image/png": "[encoded data removed]"
          },
          "metadata": {}
        }
      ]
    },
    {
      "cell_type": "code",
      "source": [
        "#feature scaling since lstm is sensitive to the scale of the data\n",
        "import numpy as np\n",
        "from sklearn.preprocessing import MinMaxScaler\n",
        "sc=MinMaxScaler(feature_range=(0,1))\n",
        "df2=sc.fit_transform(np.array(df2).reshape(-1,1))"
      ],
      "metadata": {
        "id": "R3yVDKX9q3gc"
      },
      "execution_count": 8,
      "outputs": []
    },
    {
      "cell_type": "code",
      "source": [
        "df2.shape"
      ],
      "metadata": {
        "colab": {
          "base_uri": "https://localhost:8080/"
        },
        "id": "uAI8BPNCrmZT",
        "outputId": "f9f2d349-9b2b-4af1-ade3-e2ecb15021a9"
      },
      "execution_count": 9,
      "outputs": [
        {
          "output_type": "execute_result",
          "data": {
            "text/plain": [
              "(1258, 1)"
            ]
          },
          "metadata": {},
          "execution_count": 9
        }
      ]
    },
    {
      "cell_type": "code",
      "source": [
        "#splitting the dataset\n",
        "training_size=int(len(df2)*0.65)\n",
        "test_size=len(df2)-training_size\n",
        "train_data,test_data=df2[0:training_size,:],df2[training_size:len(df2),:1]"
      ],
      "metadata": {
        "id": "J1MqG8uOrrsX"
      },
      "execution_count": 10,
      "outputs": []
    },
    {
      "cell_type": "code",
      "source": [
        "training_size,test_size"
      ],
      "metadata": {
        "colab": {
          "base_uri": "https://localhost:8080/"
        },
        "id": "PXXmsGHCvfAO",
        "outputId": "62f755e0-76c5-4b0d-b4dc-0182fc447fdb"
      },
      "execution_count": 11,
      "outputs": [
        {
          "output_type": "execute_result",
          "data": {
            "text/plain": [
              "(817, 441)"
            ]
          },
          "metadata": {},
          "execution_count": 11
        }
      ]
    },
    {
      "cell_type": "code",
      "source": [
        "def create_dataset(dataset,time_step=1):\n",
        "  dataX,dataY=[],[]\n",
        "  for i in range(len(dataset)-time_step-1):\n",
        "    a=dataset[i:(i+time_step),0]\n",
        "    dataX.append(a)\n",
        "    dataY.append(dataset[i+time_step,0])\n",
        "  return np.array(dataX),np.array(dataY)\n"
      ],
      "metadata": {
        "id": "WXZ42A_hvirb"
      },
      "execution_count": 12,
      "outputs": []
    },
    {
      "cell_type": "code",
      "source": [
        "#reshaping X=t,t+1,t+2 and Y=t+4\n",
        "time_step=100\n",
        "X_train,y_train=create_dataset(train_data,time_step)\n",
        "X_test,y_test=create_dataset(test_data,time_step)"
      ],
      "metadata": {
        "id": "pTK0uhPk0qDD"
      },
      "execution_count": 13,
      "outputs": []
    },
    {
      "cell_type": "code",
      "source": [
        "print(X_train)"
      ],
      "metadata": {
        "colab": {
          "base_uri": "https://localhost:8080/"
        },
        "id": "_SjVT0Rw1ClM",
        "outputId": "44b69cc3-8b28-4f51-aa4b-b40b31db26a3"
      },
      "execution_count": 14,
      "outputs": [
        {
          "output_type": "stream",
          "name": "stdout",
          "text": [
            "[[0.25758297 0.25532874 0.26599875 ... 0.42156544 0.43336255 0.43474014]\n",
            " [0.25532874 0.26599875 0.2544521  ... 0.43336255 0.43474014 0.43306199]\n",
            " [0.26599875 0.2544521  0.24340639 ... 0.43474014 0.43306199 0.43376331]\n",
            " ...\n",
            " [0.08435817 0.09252348 0.107201   ... 0.09054477 0.07899812 0.08909205]\n",
            " [0.09252348 0.107201   0.10519724 ... 0.07899812 0.08909205 0.09244834]\n",
            " [0.107201   0.10519724 0.10487163 ... 0.08909205 0.09244834 0.09272386]]\n"
          ]
        }
      ]
    },
    {
      "cell_type": "code",
      "source": [
        "X_test.shape,y_test.shape"
      ],
      "metadata": {
        "colab": {
          "base_uri": "https://localhost:8080/"
        },
        "id": "roRGWBNd1Ze-",
        "outputId": "5edbba6d-e1ed-45a0-845a-977449150db6"
      },
      "execution_count": 15,
      "outputs": [
        {
          "output_type": "execute_result",
          "data": {
            "text/plain": [
              "((340, 100), (340,))"
            ]
          },
          "metadata": {},
          "execution_count": 15
        }
      ]
    },
    {
      "cell_type": "code",
      "source": [
        "print(X_train)"
      ],
      "metadata": {
        "colab": {
          "base_uri": "https://localhost:8080/"
        },
        "id": "ELrRtAdA3IYp",
        "outputId": "6a141e01-fe01-4fac-fe10-4b495cb6032c"
      },
      "execution_count": 16,
      "outputs": [
        {
          "output_type": "stream",
          "name": "stdout",
          "text": [
            "[[0.25758297 0.25532874 0.26599875 ... 0.42156544 0.43336255 0.43474014]\n",
            " [0.25532874 0.26599875 0.2544521  ... 0.43336255 0.43474014 0.43306199]\n",
            " [0.26599875 0.2544521  0.24340639 ... 0.43474014 0.43306199 0.43376331]\n",
            " ...\n",
            " [0.08435817 0.09252348 0.107201   ... 0.09054477 0.07899812 0.08909205]\n",
            " [0.09252348 0.107201   0.10519724 ... 0.07899812 0.08909205 0.09244834]\n",
            " [0.107201   0.10519724 0.10487163 ... 0.08909205 0.09244834 0.09272386]]\n"
          ]
        }
      ]
    },
    {
      "cell_type": "code",
      "source": [
        "#reshaping the input to be [samples,time steps, features] which is required for LSTM\n",
        "X_train=X_train.reshape(X_train.shape[0],X_train.shape[1],1)\n",
        "X_test=X_test.reshape(X_test.shape[0],X_test.shape[1],1)"
      ],
      "metadata": {
        "id": "tnpAxVlO1iqo"
      },
      "execution_count": 19,
      "outputs": []
    },
    {
      "cell_type": "code",
      "source": [
        "#Importing necessry libraries\n",
        "from tensorflow.keras.layers import Dense,LSTM\n",
        "from tensorflow.keras.models import Sequential"
      ],
      "metadata": {
        "id": "FwfWdVOVYWhB"
      },
      "execution_count": 22,
      "outputs": []
    },
    {
      "cell_type": "code",
      "source": [
        "#creation of stacked lstm\n",
        "model=Sequential()\n",
        "model.add(LSTM(50,return_sequences=True,input_shape=(100,1)))\n",
        "model.add(LSTM(50,return_sequences=True))\n",
        "model.add(LSTM(50))\n",
        "model.add(Dense(1))\n",
        "model.compile(loss=\"mean_squared_error\",optimizer=\"adam\")"
      ],
      "metadata": {
        "id": "41j5nlZ-ZQFs"
      },
      "execution_count": 23,
      "outputs": []
    },
    {
      "cell_type": "code",
      "source": [
        "model.summary()"
      ],
      "metadata": {
        "colab": {
          "base_uri": "https://localhost:8080/"
        },
        "id": "5J6gJqmPZ6QY",
        "outputId": "f0991000-96a5-43b2-aceb-9209a4ff1761"
      },
      "execution_count": 24,
      "outputs": [
        {
          "output_type": "stream",
          "name": "stdout",
          "text": [
            "Model: \"sequential\"\n",
            "_________________________________________________________________\n",
            " Layer (type)                Output Shape              Param #   \n",
            "=================================================================\n",
            " lstm (LSTM)                 (None, 100, 50)           10400     \n",
            "                                                                 \n",
            " lstm_1 (LSTM)               (None, 100, 50)           20200     \n",
            "                                                                 \n",
            " lstm_2 (LSTM)               (None, 50)                20200     \n",
            "                                                                 \n",
            " dense (Dense)               (None, 1)                 51        \n",
            "                                                                 \n",
            "=================================================================\n",
            "Total params: 50851 (198.64 KB)\n",
            "Trainable params: 50851 (198.64 KB)\n",
            "Non-trainable params: 0 (0.00 Byte)\n",
            "_________________________________________________________________\n"
          ]
        }
      ]
    },
    {
      "cell_type": "code",
      "source": [
        "model.fit(X_train,y_train,validation_data=(X_test,y_test),epochs=100,batch_size=64,verbose=1)"
      ],
      "metadata": {
        "colab": {
          "base_uri": "https://localhost:8080/"
        },
        "id": "DqA0bkb_Z7rz",
        "outputId": "924481fe-db46-4ae9-d1d4-a75ef809fdda"
      },
      "execution_count": 25,
      "outputs": [
        {
          "output_type": "stream",
          "name": "stdout",
          "text": [
            "Epoch 1/100\n",
            "12/12 [==============================] - 12s 336ms/step - loss: 0.0390 - val_loss: 9.5542e-04\n",
            "Epoch 2/100\n",
            "12/12 [==============================] - 3s 282ms/step - loss: 0.0127 - val_loss: 0.0011\n",
            "Epoch 3/100\n",
            "12/12 [==============================] - 2s 175ms/step - loss: 0.0124 - val_loss: 6.8252e-04\n",
            "Epoch 4/100\n",
            "12/12 [==============================] - 2s 175ms/step - loss: 0.0102 - val_loss: 4.8014e-04\n",
            "Epoch 5/100\n",
            "12/12 [==============================] - 2s 175ms/step - loss: 0.0086 - val_loss: 4.7203e-04\n",
            "Epoch 6/100\n",
            "12/12 [==============================] - 2s 172ms/step - loss: 0.0078 - val_loss: 2.8527e-04\n",
            "Epoch 7/100\n",
            "12/12 [==============================] - 2s 186ms/step - loss: 0.0071 - val_loss: 3.9872e-04\n",
            "Epoch 8/100\n",
            "12/12 [==============================] - 3s 255ms/step - loss: 0.0062 - val_loss: 0.0015\n",
            "Epoch 9/100\n",
            "12/12 [==============================] - 2s 172ms/step - loss: 0.0064 - val_loss: 7.8469e-04\n",
            "Epoch 10/100\n",
            "12/12 [==============================] - 2s 169ms/step - loss: 0.0057 - val_loss: 3.9453e-04\n",
            "Epoch 11/100\n",
            "12/12 [==============================] - 2s 171ms/step - loss: 0.0046 - val_loss: 8.5794e-04\n",
            "Epoch 12/100\n",
            "12/12 [==============================] - 2s 173ms/step - loss: 0.0051 - val_loss: 9.3718e-04\n",
            "Epoch 13/100\n",
            "12/12 [==============================] - 3s 227ms/step - loss: 0.0052 - val_loss: 4.4238e-04\n",
            "Epoch 14/100\n",
            "12/12 [==============================] - 3s 239ms/step - loss: 0.0041 - val_loss: 3.3902e-04\n",
            "Epoch 15/100\n",
            "12/12 [==============================] - 2s 174ms/step - loss: 0.0038 - val_loss: 2.2961e-04\n",
            "Epoch 16/100\n",
            "12/12 [==============================] - 2s 172ms/step - loss: 0.0040 - val_loss: 3.3054e-04\n",
            "Epoch 17/100\n",
            "12/12 [==============================] - 2s 171ms/step - loss: 0.0034 - val_loss: 2.2585e-04\n",
            "Epoch 18/100\n",
            "12/12 [==============================] - 2s 173ms/step - loss: 0.0032 - val_loss: 2.2288e-04\n",
            "Epoch 19/100\n",
            "12/12 [==============================] - 3s 246ms/step - loss: 0.0034 - val_loss: 8.6457e-04\n",
            "Epoch 20/100\n",
            "12/12 [==============================] - 3s 219ms/step - loss: 0.0030 - val_loss: 5.7599e-04\n",
            "Epoch 21/100\n",
            "12/12 [==============================] - 2s 172ms/step - loss: 0.0034 - val_loss: 2.7947e-04\n",
            "Epoch 22/100\n",
            "12/12 [==============================] - 2s 173ms/step - loss: 0.0028 - val_loss: 4.7499e-04\n",
            "Epoch 23/100\n",
            "12/12 [==============================] - 2s 175ms/step - loss: 0.0033 - val_loss: 1.9962e-04\n",
            "Epoch 24/100\n",
            "12/12 [==============================] - 2s 177ms/step - loss: 0.0035 - val_loss: 2.1282e-04\n",
            "Epoch 25/100\n",
            "12/12 [==============================] - 3s 288ms/step - loss: 0.0029 - val_loss: 2.2137e-04\n",
            "Epoch 26/100\n",
            "12/12 [==============================] - 2s 173ms/step - loss: 0.0022 - val_loss: 2.9738e-04\n",
            "Epoch 27/100\n",
            "12/12 [==============================] - 2s 174ms/step - loss: 0.0033 - val_loss: 2.1636e-04\n",
            "Epoch 28/100\n",
            "12/12 [==============================] - 2s 177ms/step - loss: 0.0030 - val_loss: 5.4225e-04\n",
            "Epoch 29/100\n",
            "12/12 [==============================] - 2s 178ms/step - loss: 0.0023 - val_loss: 2.1664e-04\n",
            "Epoch 30/100\n",
            "12/12 [==============================] - 2s 189ms/step - loss: 0.0020 - val_loss: 2.1834e-04\n",
            "Epoch 31/100\n",
            "12/12 [==============================] - 3s 280ms/step - loss: 0.0019 - val_loss: 2.0450e-04\n",
            "Epoch 32/100\n",
            "12/12 [==============================] - 2s 175ms/step - loss: 0.0023 - val_loss: 2.3216e-04\n",
            "Epoch 33/100\n",
            "12/12 [==============================] - 2s 172ms/step - loss: 0.0022 - val_loss: 2.1201e-04\n",
            "Epoch 34/100\n",
            "12/12 [==============================] - 2s 177ms/step - loss: 0.0020 - val_loss: 2.5703e-04\n",
            "Epoch 35/100\n",
            "12/12 [==============================] - 2s 175ms/step - loss: 0.0026 - val_loss: 3.1255e-04\n",
            "Epoch 36/100\n",
            "12/12 [==============================] - 3s 220ms/step - loss: 0.0036 - val_loss: 4.3788e-04\n",
            "Epoch 37/100\n",
            "12/12 [==============================] - 3s 249ms/step - loss: 0.0025 - val_loss: 2.7206e-04\n",
            "Epoch 38/100\n",
            "12/12 [==============================] - 2s 174ms/step - loss: 0.0022 - val_loss: 1.9830e-04\n",
            "Epoch 39/100\n",
            "12/12 [==============================] - 2s 173ms/step - loss: 0.0019 - val_loss: 3.0397e-04\n",
            "Epoch 40/100\n",
            "12/12 [==============================] - 2s 172ms/step - loss: 0.0019 - val_loss: 4.7412e-04\n",
            "Epoch 41/100\n",
            "12/12 [==============================] - 2s 174ms/step - loss: 0.0018 - val_loss: 2.4061e-04\n",
            "Epoch 42/100\n",
            "12/12 [==============================] - 3s 248ms/step - loss: 0.0018 - val_loss: 3.2186e-04\n",
            "Epoch 43/100\n",
            "12/12 [==============================] - 3s 223ms/step - loss: 0.0020 - val_loss: 2.0582e-04\n",
            "Epoch 44/100\n",
            "12/12 [==============================] - 2s 175ms/step - loss: 0.0017 - val_loss: 2.3345e-04\n",
            "Epoch 45/100\n",
            "12/12 [==============================] - 2s 173ms/step - loss: 0.0020 - val_loss: 2.9083e-04\n",
            "Epoch 46/100\n",
            "12/12 [==============================] - 2s 173ms/step - loss: 0.0025 - val_loss: 2.2454e-04\n",
            "Epoch 47/100\n",
            "12/12 [==============================] - 2s 175ms/step - loss: 0.0031 - val_loss: 4.0748e-04\n",
            "Epoch 48/100\n",
            "12/12 [==============================] - 3s 256ms/step - loss: 0.0020 - val_loss: 4.0641e-04\n",
            "Epoch 49/100\n",
            "12/12 [==============================] - 3s 209ms/step - loss: 0.0021 - val_loss: 3.7508e-04\n",
            "Epoch 50/100\n",
            "12/12 [==============================] - 2s 175ms/step - loss: 0.0033 - val_loss: 4.0671e-04\n",
            "Epoch 51/100\n",
            "12/12 [==============================] - 2s 176ms/step - loss: 0.0024 - val_loss: 5.4869e-04\n",
            "Epoch 52/100\n",
            "12/12 [==============================] - 2s 172ms/step - loss: 0.0020 - val_loss: 1.9988e-04\n",
            "Epoch 53/100\n",
            "12/12 [==============================] - 2s 174ms/step - loss: 0.0035 - val_loss: 0.0032\n",
            "Epoch 54/100\n",
            "12/12 [==============================] - 3s 295ms/step - loss: 0.0098 - val_loss: 6.6457e-04\n",
            "Epoch 55/100\n",
            "12/12 [==============================] - 2s 175ms/step - loss: 0.0053 - val_loss: 0.0010\n",
            "Epoch 56/100\n",
            "12/12 [==============================] - 2s 175ms/step - loss: 0.0046 - val_loss: 2.5986e-04\n",
            "Epoch 57/100\n",
            "12/12 [==============================] - 3s 225ms/step - loss: 0.0040 - val_loss: 2.0880e-04\n",
            "Epoch 58/100\n",
            "12/12 [==============================] - 3s 294ms/step - loss: 0.0023 - val_loss: 3.7106e-04\n",
            "Epoch 59/100\n",
            "12/12 [==============================] - 3s 265ms/step - loss: 0.0024 - val_loss: 1.9567e-04\n",
            "Epoch 60/100\n",
            "12/12 [==============================] - 2s 175ms/step - loss: 0.0018 - val_loss: 2.6378e-04\n",
            "Epoch 61/100\n",
            "12/12 [==============================] - 2s 173ms/step - loss: 0.0019 - val_loss: 2.2644e-04\n",
            "Epoch 62/100\n",
            "12/12 [==============================] - 2s 173ms/step - loss: 0.0024 - val_loss: 2.6797e-04\n",
            "Epoch 63/100\n",
            "12/12 [==============================] - 2s 175ms/step - loss: 0.0022 - val_loss: 2.2554e-04\n",
            "Epoch 64/100\n",
            "12/12 [==============================] - 2s 208ms/step - loss: 0.0024 - val_loss: 2.0118e-04\n",
            "Epoch 65/100\n",
            "12/12 [==============================] - 3s 253ms/step - loss: 0.0019 - val_loss: 2.7205e-04\n",
            "Epoch 66/100\n",
            "12/12 [==============================] - 2s 174ms/step - loss: 0.0015 - val_loss: 1.9829e-04\n",
            "Epoch 67/100\n",
            "12/12 [==============================] - 2s 175ms/step - loss: 0.0016 - val_loss: 2.4073e-04\n",
            "Epoch 68/100\n",
            "12/12 [==============================] - 2s 171ms/step - loss: 0.0019 - val_loss: 2.6099e-04\n",
            "Epoch 69/100\n",
            "12/12 [==============================] - 2s 171ms/step - loss: 0.0016 - val_loss: 3.4400e-04\n",
            "Epoch 70/100\n",
            "12/12 [==============================] - 3s 222ms/step - loss: 0.0014 - val_loss: 2.0715e-04\n",
            "Epoch 71/100\n",
            "12/12 [==============================] - 3s 235ms/step - loss: 0.0086 - val_loss: 8.5417e-04\n",
            "Epoch 72/100\n",
            "12/12 [==============================] - 2s 171ms/step - loss: 0.0034 - val_loss: 2.2033e-04\n",
            "Epoch 73/100\n",
            "12/12 [==============================] - 2s 175ms/step - loss: 0.0035 - val_loss: 2.4333e-04\n",
            "Epoch 74/100\n",
            "12/12 [==============================] - 2s 174ms/step - loss: 0.0028 - val_loss: 2.0160e-04\n",
            "Epoch 75/100\n",
            "12/12 [==============================] - 2s 176ms/step - loss: 0.0024 - val_loss: 2.1013e-04\n",
            "Epoch 76/100\n",
            "12/12 [==============================] - 3s 268ms/step - loss: 0.0022 - val_loss: 2.0768e-04\n",
            "Epoch 77/100\n",
            "12/12 [==============================] - 2s 181ms/step - loss: 0.0020 - val_loss: 2.0684e-04\n",
            "Epoch 78/100\n",
            "12/12 [==============================] - 2s 176ms/step - loss: 0.0018 - val_loss: 2.0447e-04\n",
            "Epoch 79/100\n",
            "12/12 [==============================] - 2s 174ms/step - loss: 0.0017 - val_loss: 2.1971e-04\n",
            "Epoch 80/100\n",
            "12/12 [==============================] - 2s 176ms/step - loss: 0.0060 - val_loss: 2.8807e-04\n",
            "Epoch 81/100\n",
            "12/12 [==============================] - 2s 210ms/step - loss: 0.0045 - val_loss: 2.0816e-04\n",
            "Epoch 82/100\n",
            "12/12 [==============================] - 3s 263ms/step - loss: 0.0042 - val_loss: 2.0236e-04\n",
            "Epoch 83/100\n",
            "12/12 [==============================] - 2s 174ms/step - loss: 0.0034 - val_loss: 5.4915e-04\n",
            "Epoch 84/100\n",
            "12/12 [==============================] - 2s 174ms/step - loss: 0.0026 - val_loss: 1.7134e-04\n",
            "Epoch 85/100\n",
            "12/12 [==============================] - 2s 174ms/step - loss: 0.0020 - val_loss: 2.0175e-04\n",
            "Epoch 86/100\n",
            "12/12 [==============================] - 2s 175ms/step - loss: 0.0021 - val_loss: 1.7758e-04\n",
            "Epoch 87/100\n",
            "12/12 [==============================] - 3s 218ms/step - loss: 0.0018 - val_loss: 1.9456e-04\n",
            "Epoch 88/100\n",
            "12/12 [==============================] - 3s 242ms/step - loss: 0.0018 - val_loss: 3.9949e-04\n",
            "Epoch 89/100\n",
            "12/12 [==============================] - 2s 174ms/step - loss: 0.0016 - val_loss: 1.7520e-04\n",
            "Epoch 90/100\n",
            "12/12 [==============================] - 2s 176ms/step - loss: 0.0016 - val_loss: 2.6540e-04\n",
            "Epoch 91/100\n",
            "12/12 [==============================] - 2s 172ms/step - loss: 0.0014 - val_loss: 2.5945e-04\n",
            "Epoch 92/100\n",
            "12/12 [==============================] - 2s 175ms/step - loss: 0.0013 - val_loss: 2.8425e-04\n",
            "Epoch 93/100\n",
            "12/12 [==============================] - 3s 235ms/step - loss: 0.0013 - val_loss: 2.4016e-04\n",
            "Epoch 94/100\n",
            "12/12 [==============================] - 3s 233ms/step - loss: 0.0015 - val_loss: 4.0904e-04\n",
            "Epoch 95/100\n",
            "12/12 [==============================] - 2s 175ms/step - loss: 0.0013 - val_loss: 2.1967e-04\n",
            "Epoch 96/100\n",
            "12/12 [==============================] - 2s 173ms/step - loss: 0.0012 - val_loss: 2.1713e-04\n",
            "Epoch 97/100\n",
            "12/12 [==============================] - 2s 173ms/step - loss: 0.0012 - val_loss: 3.1233e-04\n",
            "Epoch 98/100\n",
            "12/12 [==============================] - 2s 175ms/step - loss: 0.0011 - val_loss: 2.4322e-04\n",
            "Epoch 99/100\n",
            "12/12 [==============================] - 3s 251ms/step - loss: 0.0011 - val_loss: 3.0275e-04\n",
            "Epoch 100/100\n",
            "12/12 [==============================] - 3s 222ms/step - loss: 0.0012 - val_loss: 1.9327e-04\n"
          ]
        },
        {
          "output_type": "execute_result",
          "data": {
            "text/plain": [
              "<keras.src.callbacks.History at 0x7bcb50932e60>"
            ]
          },
          "metadata": {},
          "execution_count": 25
        }
      ]
    },
    {
      "cell_type": "code",
      "source": [
        "#evaluation of the model\n",
        "train_predict=model.predict(X_train)\n",
        "test_predict=model.predict(X_test)"
      ],
      "metadata": {
        "colab": {
          "base_uri": "https://localhost:8080/"
        },
        "id": "zJiJ-TTlaRx4",
        "outputId": "3da8d3f9-7d2f-423a-9562-7d2465a97e1c"
      },
      "execution_count": 30,
      "outputs": [
        {
          "output_type": "stream",
          "name": "stdout",
          "text": [
            "23/23 [==============================] - 1s 35ms/step\n",
            "11/11 [==============================] - 0s 35ms/step\n"
          ]
        }
      ]
    },
    {
      "cell_type": "code",
      "source": [
        "train_predict=sc.inverse_transform(train_predict)\n",
        "test_predict=sc.inverse_transform(test_predict)"
      ],
      "metadata": {
        "id": "kOu5Deg6cFSs"
      },
      "execution_count": 32,
      "outputs": []
    },
    {
      "cell_type": "code",
      "source": [
        "import math\n",
        "from sklearn.metrics import mean_squared_error\n",
        "math.sqrt(mean_squared_error(y_train,train_predict))"
      ],
      "metadata": {
        "colab": {
          "base_uri": "https://localhost:8080/"
        },
        "id": "eiQI0_vtbgtB",
        "outputId": "a684ffd1-06e4-4211-90a0-d5a44a894980"
      },
      "execution_count": 33,
      "outputs": [
        {
          "output_type": "execute_result",
          "data": {
            "text/plain": [
              "209.07519444552412"
            ]
          },
          "metadata": {},
          "execution_count": 33
        }
      ]
    },
    {
      "cell_type": "code",
      "source": [
        "math.sqrt(mean_squared_error(y_test,test_predict))"
      ],
      "metadata": {
        "colab": {
          "base_uri": "https://localhost:8080/"
        },
        "id": "I8DvY73_b1jr",
        "outputId": "041ab1af-cdb9-4eb8-eb01-280f62dfaa2a"
      },
      "execution_count": 34,
      "outputs": [
        {
          "output_type": "execute_result",
          "data": {
            "text/plain": [
              "182.12178924618206"
            ]
          },
          "metadata": {},
          "execution_count": 34
        }
      ]
    },
    {
      "cell_type": "code",
      "source": [
        "look_back=100\n",
        "trainPredictPlot = np.empty_like(df2)\n",
        "trainPredictPlot[:, :] = np.nan\n",
        "trainPredictPlot[look_back:len(train_predict)+look_back, :] = train_predict\n",
        "# shift test predictions for plotting\n",
        "testPredictPlot = np.empty_like(df2)\n",
        "testPredictPlot[:, :] = np.nan\n",
        "testPredictPlot[len(train_predict)+(look_back*2)+1:len(df2)-1, :] = test_predict\n",
        "# plot baseline and predictions\n",
        "plt.plot(sc.inverse_transform(df2))\n",
        "plt.plot(trainPredictPlot)\n",
        "plt.plot(testPredictPlot)\n",
        "plt.show()"
      ],
      "metadata": {
        "colab": {
          "base_uri": "https://localhost:8080/",
          "height": 430
        },
        "id": "4coHMEB4b8TK",
        "outputId": "d554b053-cfbb-4eb7-e56a-29644c2ea242"
      },
      "execution_count": 36,
      "outputs": [
        {
          "output_type": "display_data",
          "data": {
            "text/plain": [
              "<Figure size 640x480 with 1 Axes>"
            ],
            "image/png": "[encoded data removed]"
          },
          "metadata": {}
        }
      ]
    },
    {
      "cell_type": "code",
      "source": [
        "x_input=test_data[341:].reshape(1,-1)\n",
        "x_input.shape"
      ],
      "metadata": {
        "colab": {
          "base_uri": "https://localhost:8080/"
        },
        "id": "utZpZoPOc18W",
        "outputId": "8743b68f-f11d-47a9-d5f7-38d0d7de2ece"
      },
      "execution_count": 37,
      "outputs": [
        {
          "output_type": "execute_result",
          "data": {
            "text/plain": [
              "(1, 100)"
            ]
          },
          "metadata": {},
          "execution_count": 37
        }
      ]
    },
    {
      "cell_type": "code",
      "source": [
        "temp_input=list(x_input)\n",
        "temp_input=temp_input[0].tolist()"
      ],
      "metadata": {
        "id": "MANGbC9XdLPv"
      },
      "execution_count": 38,
      "outputs": []
    },
    {
      "cell_type": "code",
      "source": [
        "lst_output=[]\n",
        "n_steps=100\n",
        "i=0\n",
        "while(i<30):\n",
        "\n",
        "    if(len(temp_input)>100):\n",
        "        #print(temp_input)\n",
        "        x_input=np.array(temp_input[1:])\n",
        "        print(\"{} day input {}\".format(i,x_input))\n",
        "        x_input=x_input.reshape(1,-1)\n",
        "        x_input = x_input.reshape((1, n_steps, 1))\n",
        "        #print(x_input)\n",
        "        yhat = model.predict(x_input, verbose=0)\n",
        "        print(\"{} day output {}\".format(i,yhat))\n",
        "        temp_input.extend(yhat[0].tolist())\n",
        "        temp_input=temp_input[1:]\n",
        "        #print(temp_input)\n",
        "        lst_output.extend(yhat.tolist())\n",
        "        i=i+1\n",
        "    else:\n",
        "        x_input = x_input.reshape((1, n_steps,1))\n",
        "        yhat = model.predict(x_input, verbose=0)\n",
        "        print(yhat[0])\n",
        "        temp_input.extend(yhat[0].tolist())\n",
        "        print(len(temp_input))\n",
        "        lst_output.extend(yhat.tolist())\n",
        "        i=i+1\n",
        "\n",
        "\n",
        "print(lst_output)"
      ],
      "metadata": {
        "colab": {
          "base_uri": "https://localhost:8080/"
        },
        "id": "zl3D3Ho5dNZx",
        "outputId": "0f0f0e43-4679-4dc1-b41e-d49ee55f1483"
      },
      "execution_count": 39,
      "outputs": [
        {
          "output_type": "stream",
          "name": "stdout",
          "text": [
            "[0.29194218]\n",
            "101\n",
            "1 day input [0.15599249 0.15569192 0.16002505 0.16508453 0.16628679 0.16102693\n",
            " 0.16571071 0.16475892 0.16751409 0.17342517 0.17991234 0.16162805\n",
            " 0.16390733 0.16032561 0.15747026 0.16648716 0.16190357 0.15827176\n",
            " 0.15529117 0.15731997 0.15524108 0.15714465 0.15431434 0.15737007\n",
            " 0.15263619 0.17082029 0.17460238 0.16493425 0.15664371 0.15318723\n",
            " 0.15078272 0.14567314 0.14777708 0.15043206 0.15574202 0.1579211\n",
            " 0.15644333 0.16696306 0.15902317 0.15644333 0.16578585 0.19170946\n",
            " 0.18752661 0.18925485 0.19010645 0.19469004 0.19088291 0.19897307\n",
            " 0.20185348 0.20758923 0.20788979 0.20796493 0.21089543 0.21417658\n",
            " 0.21054477 0.20047589 0.20824045 0.2082655  0.20901691 0.2115216\n",
            " 0.21392611 0.21838447 0.21918597 0.22299311 0.21951158 0.2255479\n",
            " 0.2161052  0.25124609 0.26607389 0.26900438 0.26462116 0.2750908\n",
            " 0.26912962 0.25758297 0.25209768 0.25372574 0.2560551  0.26652473\n",
            " 0.26865373 0.25993738 0.27529117 0.2841077  0.28731371 0.29931121\n",
            " 0.30301816 0.3051722  0.31594239 0.30239198 0.30983093 0.31949906\n",
            " 0.32055103 0.30567314 0.29390106 0.29422668 0.29335003 0.29597996\n",
            " 0.27977458 0.27714465 0.27832185 0.29194218]\n",
            "1 day output [[0.2887532]]\n",
            "2 day input [0.15569192 0.16002505 0.16508453 0.16628679 0.16102693 0.16571071\n",
            " 0.16475892 0.16751409 0.17342517 0.17991234 0.16162805 0.16390733\n",
            " 0.16032561 0.15747026 0.16648716 0.16190357 0.15827176 0.15529117\n",
            " 0.15731997 0.15524108 0.15714465 0.15431434 0.15737007 0.15263619\n",
            " 0.17082029 0.17460238 0.16493425 0.15664371 0.15318723 0.15078272\n",
            " 0.14567314 0.14777708 0.15043206 0.15574202 0.1579211  0.15644333\n",
            " 0.16696306 0.15902317 0.15644333 0.16578585 0.19170946 0.18752661\n",
            " 0.18925485 0.19010645 0.19469004 0.19088291 0.19897307 0.20185348\n",
            " 0.20758923 0.20788979 0.20796493 0.21089543 0.21417658 0.21054477\n",
            " 0.20047589 0.20824045 0.2082655  0.20901691 0.2115216  0.21392611\n",
            " 0.21838447 0.21918597 0.22299311 0.21951158 0.2255479  0.2161052\n",
            " 0.25124609 0.26607389 0.26900438 0.26462116 0.2750908  0.26912962\n",
            " 0.25758297 0.25209768 0.25372574 0.2560551  0.26652473 0.26865373\n",
            " 0.25993738 0.27529117 0.2841077  0.28731371 0.29931121 0.30301816\n",
            " 0.3051722  0.31594239 0.30239198 0.30983093 0.31949906 0.32055103\n",
            " 0.30567314 0.29390106 0.29422668 0.29335003 0.29597996 0.27977458\n",
            " 0.27714465 0.27832185 0.29194218 0.28875321]\n",
            "2 day output [[0.28653032]]\n",
            "3 day input [0.16002505 0.16508453 0.16628679 0.16102693 0.16571071 0.16475892\n",
            " 0.16751409 0.17342517 0.17991234 0.16162805 0.16390733 0.16032561\n",
            " 0.15747026 0.16648716 0.16190357 0.15827176 0.15529117 0.15731997\n",
            " 0.15524108 0.15714465 0.15431434 0.15737007 0.15263619 0.17082029\n",
            " 0.17460238 0.16493425 0.15664371 0.15318723 0.15078272 0.14567314\n",
            " 0.14777708 0.15043206 0.15574202 0.1579211  0.15644333 0.16696306\n",
            " 0.15902317 0.15644333 0.16578585 0.19170946 0.18752661 0.18925485\n",
            " 0.19010645 0.19469004 0.19088291 0.19897307 0.20185348 0.20758923\n",
            " 0.20788979 0.20796493 0.21089543 0.21417658 0.21054477 0.20047589\n",
            " 0.20824045 0.2082655  0.20901691 0.2115216  0.21392611 0.21838447\n",
            " 0.21918597 0.22299311 0.21951158 0.2255479  0.2161052  0.25124609\n",
            " 0.26607389 0.26900438 0.26462116 0.2750908  0.26912962 0.25758297\n",
            " 0.25209768 0.25372574 0.2560551  0.26652473 0.26865373 0.25993738\n",
            " 0.27529117 0.2841077  0.28731371 0.29931121 0.30301816 0.3051722\n",
            " 0.31594239 0.30239198 0.30983093 0.31949906 0.32055103 0.30567314\n",
            " 0.29390106 0.29422668 0.29335003 0.29597996 0.27977458 0.27714465\n",
            " 0.27832185 0.29194218 0.28875321 0.28653032]\n",
            "3 day output [[0.28493625]]\n",
            "4 day input [0.16508453 0.16628679 0.16102693 0.16571071 0.16475892 0.16751409\n",
            " 0.17342517 0.17991234 0.16162805 0.16390733 0.16032561 0.15747026\n",
            " 0.16648716 0.16190357 0.15827176 0.15529117 0.15731997 0.15524108\n",
            " 0.15714465 0.15431434 0.15737007 0.15263619 0.17082029 0.17460238\n",
            " 0.16493425 0.15664371 0.15318723 0.15078272 0.14567314 0.14777708\n",
            " 0.15043206 0.15574202 0.1579211  0.15644333 0.16696306 0.15902317\n",
            " 0.15644333 0.16578585 0.19170946 0.18752661 0.18925485 0.19010645\n",
            " 0.19469004 0.19088291 0.19897307 0.20185348 0.20758923 0.20788979\n",
            " 0.20796493 0.21089543 0.21417658 0.21054477 0.20047589 0.20824045\n",
            " 0.2082655  0.20901691 0.2115216  0.21392611 0.21838447 0.21918597\n",
            " 0.22299311 0.21951158 0.2255479  0.2161052  0.25124609 0.26607389\n",
            " 0.26900438 0.26462116 0.2750908  0.26912962 0.25758297 0.25209768\n",
            " 0.25372574 0.2560551  0.26652473 0.26865373 0.25993738 0.27529117\n",
            " 0.2841077  0.28731371 0.29931121 0.30301816 0.3051722  0.31594239\n",
            " 0.30239198 0.30983093 0.31949906 0.32055103 0.30567314 0.29390106\n",
            " 0.29422668 0.29335003 0.29597996 0.27977458 0.27714465 0.27832185\n",
            " 0.29194218 0.28875321 0.28653032 0.28493625]\n",
            "4 day output [[0.28368902]]\n",
            "5 day input [0.16628679 0.16102693 0.16571071 0.16475892 0.16751409 0.17342517\n",
            " 0.17991234 0.16162805 0.16390733 0.16032561 0.15747026 0.16648716\n",
            " 0.16190357 0.15827176 0.15529117 0.15731997 0.15524108 0.15714465\n",
            " 0.15431434 0.15737007 0.15263619 0.17082029 0.17460238 0.16493425\n",
            " 0.15664371 0.15318723 0.15078272 0.14567314 0.14777708 0.15043206\n",
            " 0.15574202 0.1579211  0.15644333 0.16696306 0.15902317 0.15644333\n",
            " 0.16578585 0.19170946 0.18752661 0.18925485 0.19010645 0.19469004\n",
            " 0.19088291 0.19897307 0.20185348 0.20758923 0.20788979 0.20796493\n",
            " 0.21089543 0.21417658 0.21054477 0.20047589 0.20824045 0.2082655\n",
            " 0.20901691 0.2115216  0.21392611 0.21838447 0.21918597 0.22299311\n",
            " 0.21951158 0.2255479  0.2161052  0.25124609 0.26607389 0.26900438\n",
            " 0.26462116 0.2750908  0.26912962 0.25758297 0.25209768 0.25372574\n",
            " 0.2560551  0.26652473 0.26865373 0.25993738 0.27529117 0.2841077\n",
            " 0.28731371 0.29931121 0.30301816 0.3051722  0.31594239 0.30239198\n",
            " 0.30983093 0.31949906 0.32055103 0.30567314 0.29390106 0.29422668\n",
            " 0.29335003 0.29597996 0.27977458 0.27714465 0.27832185 0.29194218\n",
            " 0.28875321 0.28653032 0.28493625 0.28368902]\n",
            "5 day output [[0.28261262]]\n",
            "6 day input [0.16102693 0.16571071 0.16475892 0.16751409 0.17342517 0.17991234\n",
            " 0.16162805 0.16390733 0.16032561 0.15747026 0.16648716 0.16190357\n",
            " 0.15827176 0.15529117 0.15731997 0.15524108 0.15714465 0.15431434\n",
            " 0.15737007 0.15263619 0.17082029 0.17460238 0.16493425 0.15664371\n",
            " 0.15318723 0.15078272 0.14567314 0.14777708 0.15043206 0.15574202\n",
            " 0.1579211  0.15644333 0.16696306 0.15902317 0.15644333 0.16578585\n",
            " 0.19170946 0.18752661 0.18925485 0.19010645 0.19469004 0.19088291\n",
            " 0.19897307 0.20185348 0.20758923 0.20788979 0.20796493 0.21089543\n",
            " 0.21417658 0.21054477 0.20047589 0.20824045 0.2082655  0.20901691\n",
            " 0.2115216  0.21392611 0.21838447 0.21918597 0.22299311 0.21951158\n",
            " 0.2255479  0.2161052  0.25124609 0.26607389 0.26900438 0.26462116\n",
            " 0.2750908  0.26912962 0.25758297 0.25209768 0.25372574 0.2560551\n",
            " 0.26652473 0.26865373 0.25993738 0.27529117 0.2841077  0.28731371\n",
            " 0.29931121 0.30301816 0.3051722  0.31594239 0.30239198 0.30983093\n",
            " 0.31949906 0.32055103 0.30567314 0.29390106 0.29422668 0.29335003\n",
            " 0.29597996 0.27977458 0.27714465 0.27832185 0.29194218 0.28875321\n",
            " 0.28653032 0.28493625 0.28368902 0.28261262]\n",
            "6 day output [[0.28161716]]\n",
            "7 day input [0.16571071 0.16475892 0.16751409 0.17342517 0.17991234 0.16162805\n",
            " 0.16390733 0.16032561 0.15747026 0.16648716 0.16190357 0.15827176\n",
            " 0.15529117 0.15731997 0.15524108 0.15714465 0.15431434 0.15737007\n",
            " 0.15263619 0.17082029 0.17460238 0.16493425 0.15664371 0.15318723\n",
            " 0.15078272 0.14567314 0.14777708 0.15043206 0.15574202 0.1579211\n",
            " 0.15644333 0.16696306 0.15902317 0.15644333 0.16578585 0.19170946\n",
            " 0.18752661 0.18925485 0.19010645 0.19469004 0.19088291 0.19897307\n",
            " 0.20185348 0.20758923 0.20788979 0.20796493 0.21089543 0.21417658\n",
            " 0.21054477 0.20047589 0.20824045 0.2082655  0.20901691 0.2115216\n",
            " 0.21392611 0.21838447 0.21918597 0.22299311 0.21951158 0.2255479\n",
            " 0.2161052  0.25124609 0.26607389 0.26900438 0.26462116 0.2750908\n",
            " 0.26912962 0.25758297 0.25209768 0.25372574 0.2560551  0.26652473\n",
            " 0.26865373 0.25993738 0.27529117 0.2841077  0.28731371 0.29931121\n",
            " 0.30301816 0.3051722  0.31594239 0.30239198 0.30983093 0.31949906\n",
            " 0.32055103 0.30567314 0.29390106 0.29422668 0.29335003 0.29597996\n",
            " 0.27977458 0.27714465 0.27832185 0.29194218 0.28875321 0.28653032\n",
            " 0.28493625 0.28368902 0.28261262 0.28161716]\n",
            "7 day output [[0.28066504]]\n",
            "8 day input [0.16475892 0.16751409 0.17342517 0.17991234 0.16162805 0.16390733\n",
            " 0.16032561 0.15747026 0.16648716 0.16190357 0.15827176 0.15529117\n",
            " 0.15731997 0.15524108 0.15714465 0.15431434 0.15737007 0.15263619\n",
            " 0.17082029 0.17460238 0.16493425 0.15664371 0.15318723 0.15078272\n",
            " 0.14567314 0.14777708 0.15043206 0.15574202 0.1579211  0.15644333\n",
            " 0.16696306 0.15902317 0.15644333 0.16578585 0.19170946 0.18752661\n",
            " 0.18925485 0.19010645 0.19469004 0.19088291 0.19897307 0.20185348\n",
            " 0.20758923 0.20788979 0.20796493 0.21089543 0.21417658 0.21054477\n",
            " 0.20047589 0.20824045 0.2082655  0.20901691 0.2115216  0.21392611\n",
            " 0.21838447 0.21918597 0.22299311 0.21951158 0.2255479  0.2161052\n",
            " 0.25124609 0.26607389 0.26900438 0.26462116 0.2750908  0.26912962\n",
            " 0.25758297 0.25209768 0.25372574 0.2560551  0.26652473 0.26865373\n",
            " 0.25993738 0.27529117 0.2841077  0.28731371 0.29931121 0.30301816\n",
            " 0.3051722  0.31594239 0.30239198 0.30983093 0.31949906 0.32055103\n",
            " 0.30567314 0.29390106 0.29422668 0.29335003 0.29597996 0.27977458\n",
            " 0.27714465 0.27832185 0.29194218 0.28875321 0.28653032 0.28493625\n",
            " 0.28368902 0.28261262 0.28161716 0.28066504]\n",
            "8 day output [[0.27974552]]\n",
            "9 day input [0.16751409 0.17342517 0.17991234 0.16162805 0.16390733 0.16032561\n",
            " 0.15747026 0.16648716 0.16190357 0.15827176 0.15529117 0.15731997\n",
            " 0.15524108 0.15714465 0.15431434 0.15737007 0.15263619 0.17082029\n",
            " 0.17460238 0.16493425 0.15664371 0.15318723 0.15078272 0.14567314\n",
            " 0.14777708 0.15043206 0.15574202 0.1579211  0.15644333 0.16696306\n",
            " 0.15902317 0.15644333 0.16578585 0.19170946 0.18752661 0.18925485\n",
            " 0.19010645 0.19469004 0.19088291 0.19897307 0.20185348 0.20758923\n",
            " 0.20788979 0.20796493 0.21089543 0.21417658 0.21054477 0.20047589\n",
            " 0.20824045 0.2082655  0.20901691 0.2115216  0.21392611 0.21838447\n",
            " 0.21918597 0.22299311 0.21951158 0.2255479  0.2161052  0.25124609\n",
            " 0.26607389 0.26900438 0.26462116 0.2750908  0.26912962 0.25758297\n",
            " 0.25209768 0.25372574 0.2560551  0.26652473 0.26865373 0.25993738\n",
            " 0.27529117 0.2841077  0.28731371 0.29931121 0.30301816 0.3051722\n",
            " 0.31594239 0.30239198 0.30983093 0.31949906 0.32055103 0.30567314\n",
            " 0.29390106 0.29422668 0.29335003 0.29597996 0.27977458 0.27714465\n",
            " 0.27832185 0.29194218 0.28875321 0.28653032 0.28493625 0.28368902\n",
            " 0.28261262 0.28161716 0.28066504 0.27974552]\n",
            "9 day output [[0.27885866]]\n",
            "10 day input [0.17342517 0.17991234 0.16162805 0.16390733 0.16032561 0.15747026\n",
            " 0.16648716 0.16190357 0.15827176 0.15529117 0.15731997 0.15524108\n",
            " 0.15714465 0.15431434 0.15737007 0.15263619 0.17082029 0.17460238\n",
            " 0.16493425 0.15664371 0.15318723 0.15078272 0.14567314 0.14777708\n",
            " 0.15043206 0.15574202 0.1579211  0.15644333 0.16696306 0.15902317\n",
            " 0.15644333 0.16578585 0.19170946 0.18752661 0.18925485 0.19010645\n",
            " 0.19469004 0.19088291 0.19897307 0.20185348 0.20758923 0.20788979\n",
            " 0.20796493 0.21089543 0.21417658 0.21054477 0.20047589 0.20824045\n",
            " 0.2082655  0.20901691 0.2115216  0.21392611 0.21838447 0.21918597\n",
            " 0.22299311 0.21951158 0.2255479  0.2161052  0.25124609 0.26607389\n",
            " 0.26900438 0.26462116 0.2750908  0.26912962 0.25758297 0.25209768\n",
            " 0.25372574 0.2560551  0.26652473 0.26865373 0.25993738 0.27529117\n",
            " 0.2841077  0.28731371 0.29931121 0.30301816 0.3051722  0.31594239\n",
            " 0.30239198 0.30983093 0.31949906 0.32055103 0.30567314 0.29390106\n",
            " 0.29422668 0.29335003 0.29597996 0.27977458 0.27714465 0.27832185\n",
            " 0.29194218 0.28875321 0.28653032 0.28493625 0.28368902 0.28261262\n",
            " 0.28161716 0.28066504 0.27974552 0.27885866]\n",
            "10 day output [[0.27800733]]\n",
            "11 day input [0.17991234 0.16162805 0.16390733 0.16032561 0.15747026 0.16648716\n",
            " 0.16190357 0.15827176 0.15529117 0.15731997 0.15524108 0.15714465\n",
            " 0.15431434 0.15737007 0.15263619 0.17082029 0.17460238 0.16493425\n",
            " 0.15664371 0.15318723 0.15078272 0.14567314 0.14777708 0.15043206\n",
            " 0.15574202 0.1579211  0.15644333 0.16696306 0.15902317 0.15644333\n",
            " 0.16578585 0.19170946 0.18752661 0.18925485 0.19010645 0.19469004\n",
            " 0.19088291 0.19897307 0.20185348 0.20758923 0.20788979 0.20796493\n",
            " 0.21089543 0.21417658 0.21054477 0.20047589 0.20824045 0.2082655\n",
            " 0.20901691 0.2115216  0.21392611 0.21838447 0.21918597 0.22299311\n",
            " 0.21951158 0.2255479  0.2161052  0.25124609 0.26607389 0.26900438\n",
            " 0.26462116 0.2750908  0.26912962 0.25758297 0.25209768 0.25372574\n",
            " 0.2560551  0.26652473 0.26865373 0.25993738 0.27529117 0.2841077\n",
            " 0.28731371 0.29931121 0.30301816 0.3051722  0.31594239 0.30239198\n",
            " 0.30983093 0.31949906 0.32055103 0.30567314 0.29390106 0.29422668\n",
            " 0.29335003 0.29597996 0.27977458 0.27714465 0.27832185 0.29194218\n",
            " 0.28875321 0.28653032 0.28493625 0.28368902 0.28261262 0.28161716\n",
            " 0.28066504 0.27974552 0.27885866 0.27800733]\n",
            "11 day output [[0.2771936]]\n",
            "12 day input [0.16162805 0.16390733 0.16032561 0.15747026 0.16648716 0.16190357\n",
            " 0.15827176 0.15529117 0.15731997 0.15524108 0.15714465 0.15431434\n",
            " 0.15737007 0.15263619 0.17082029 0.17460238 0.16493425 0.15664371\n",
            " 0.15318723 0.15078272 0.14567314 0.14777708 0.15043206 0.15574202\n",
            " 0.1579211  0.15644333 0.16696306 0.15902317 0.15644333 0.16578585\n",
            " 0.19170946 0.18752661 0.18925485 0.19010645 0.19469004 0.19088291\n",
            " 0.19897307 0.20185348 0.20758923 0.20788979 0.20796493 0.21089543\n",
            " 0.21417658 0.21054477 0.20047589 0.20824045 0.2082655  0.20901691\n",
            " 0.2115216  0.21392611 0.21838447 0.21918597 0.22299311 0.21951158\n",
            " 0.2255479  0.2161052  0.25124609 0.26607389 0.26900438 0.26462116\n",
            " 0.2750908  0.26912962 0.25758297 0.25209768 0.25372574 0.2560551\n",
            " 0.26652473 0.26865373 0.25993738 0.27529117 0.2841077  0.28731371\n",
            " 0.29931121 0.30301816 0.3051722  0.31594239 0.30239198 0.30983093\n",
            " 0.31949906 0.32055103 0.30567314 0.29390106 0.29422668 0.29335003\n",
            " 0.29597996 0.27977458 0.27714465 0.27832185 0.29194218 0.28875321\n",
            " 0.28653032 0.28493625 0.28368902 0.28261262 0.28161716 0.28066504\n",
            " 0.27974552 0.27885866 0.27800733 0.27719361]\n",
            "12 day output [[0.27641794]]\n",
            "13 day input [0.16390733 0.16032561 0.15747026 0.16648716 0.16190357 0.15827176\n",
            " 0.15529117 0.15731997 0.15524108 0.15714465 0.15431434 0.15737007\n",
            " 0.15263619 0.17082029 0.17460238 0.16493425 0.15664371 0.15318723\n",
            " 0.15078272 0.14567314 0.14777708 0.15043206 0.15574202 0.1579211\n",
            " 0.15644333 0.16696306 0.15902317 0.15644333 0.16578585 0.19170946\n",
            " 0.18752661 0.18925485 0.19010645 0.19469004 0.19088291 0.19897307\n",
            " 0.20185348 0.20758923 0.20788979 0.20796493 0.21089543 0.21417658\n",
            " 0.21054477 0.20047589 0.20824045 0.2082655  0.20901691 0.2115216\n",
            " 0.21392611 0.21838447 0.21918597 0.22299311 0.21951158 0.2255479\n",
            " 0.2161052  0.25124609 0.26607389 0.26900438 0.26462116 0.2750908\n",
            " 0.26912962 0.25758297 0.25209768 0.25372574 0.2560551  0.26652473\n",
            " 0.26865373 0.25993738 0.27529117 0.2841077  0.28731371 0.29931121\n",
            " 0.30301816 0.3051722  0.31594239 0.30239198 0.30983093 0.31949906\n",
            " 0.32055103 0.30567314 0.29390106 0.29422668 0.29335003 0.29597996\n",
            " 0.27977458 0.27714465 0.27832185 0.29194218 0.28875321 0.28653032\n",
            " 0.28493625 0.28368902 0.28261262 0.28161716 0.28066504 0.27974552\n",
            " 0.27885866 0.27800733 0.27719361 0.27641794]\n",
            "13 day output [[0.27567887]]\n",
            "14 day input [0.16032561 0.15747026 0.16648716 0.16190357 0.15827176 0.15529117\n",
            " 0.15731997 0.15524108 0.15714465 0.15431434 0.15737007 0.15263619\n",
            " 0.17082029 0.17460238 0.16493425 0.15664371 0.15318723 0.15078272\n",
            " 0.14567314 0.14777708 0.15043206 0.15574202 0.1579211  0.15644333\n",
            " 0.16696306 0.15902317 0.15644333 0.16578585 0.19170946 0.18752661\n",
            " 0.18925485 0.19010645 0.19469004 0.19088291 0.19897307 0.20185348\n",
            " 0.20758923 0.20788979 0.20796493 0.21089543 0.21417658 0.21054477\n",
            " 0.20047589 0.20824045 0.2082655  0.20901691 0.2115216  0.21392611\n",
            " 0.21838447 0.21918597 0.22299311 0.21951158 0.2255479  0.2161052\n",
            " 0.25124609 0.26607389 0.26900438 0.26462116 0.2750908  0.26912962\n",
            " 0.25758297 0.25209768 0.25372574 0.2560551  0.26652473 0.26865373\n",
            " 0.25993738 0.27529117 0.2841077  0.28731371 0.29931121 0.30301816\n",
            " 0.3051722  0.31594239 0.30239198 0.30983093 0.31949906 0.32055103\n",
            " 0.30567314 0.29390106 0.29422668 0.29335003 0.29597996 0.27977458\n",
            " 0.27714465 0.27832185 0.29194218 0.28875321 0.28653032 0.28493625\n",
            " 0.28368902 0.28261262 0.28161716 0.28066504 0.27974552 0.27885866\n",
            " 0.27800733 0.27719361 0.27641794 0.27567887]\n",
            "14 day output [[0.2749735]]\n",
            "15 day input [0.15747026 0.16648716 0.16190357 0.15827176 0.15529117 0.15731997\n",
            " 0.15524108 0.15714465 0.15431434 0.15737007 0.15263619 0.17082029\n",
            " 0.17460238 0.16493425 0.15664371 0.15318723 0.15078272 0.14567314\n",
            " 0.14777708 0.15043206 0.15574202 0.1579211  0.15644333 0.16696306\n",
            " 0.15902317 0.15644333 0.16578585 0.19170946 0.18752661 0.18925485\n",
            " 0.19010645 0.19469004 0.19088291 0.19897307 0.20185348 0.20758923\n",
            " 0.20788979 0.20796493 0.21089543 0.21417658 0.21054477 0.20047589\n",
            " 0.20824045 0.2082655  0.20901691 0.2115216  0.21392611 0.21838447\n",
            " 0.21918597 0.22299311 0.21951158 0.2255479  0.2161052  0.25124609\n",
            " 0.26607389 0.26900438 0.26462116 0.2750908  0.26912962 0.25758297\n",
            " 0.25209768 0.25372574 0.2560551  0.26652473 0.26865373 0.25993738\n",
            " 0.27529117 0.2841077  0.28731371 0.29931121 0.30301816 0.3051722\n",
            " 0.31594239 0.30239198 0.30983093 0.31949906 0.32055103 0.30567314\n",
            " 0.29390106 0.29422668 0.29335003 0.29597996 0.27977458 0.27714465\n",
            " 0.27832185 0.29194218 0.28875321 0.28653032 0.28493625 0.28368902\n",
            " 0.28261262 0.28161716 0.28066504 0.27974552 0.27885866 0.27800733\n",
            " 0.27719361 0.27641794 0.27567887 0.27497351]\n",
            "15 day output [[0.274298]]\n",
            "16 day input [0.16648716 0.16190357 0.15827176 0.15529117 0.15731997 0.15524108\n",
            " 0.15714465 0.15431434 0.15737007 0.15263619 0.17082029 0.17460238\n",
            " 0.16493425 0.15664371 0.15318723 0.15078272 0.14567314 0.14777708\n",
            " 0.15043206 0.15574202 0.1579211  0.15644333 0.16696306 0.15902317\n",
            " 0.15644333 0.16578585 0.19170946 0.18752661 0.18925485 0.19010645\n",
            " 0.19469004 0.19088291 0.19897307 0.20185348 0.20758923 0.20788979\n",
            " 0.20796493 0.21089543 0.21417658 0.21054477 0.20047589 0.20824045\n",
            " 0.2082655  0.20901691 0.2115216  0.21392611 0.21838447 0.21918597\n",
            " 0.22299311 0.21951158 0.2255479  0.2161052  0.25124609 0.26607389\n",
            " 0.26900438 0.26462116 0.2750908  0.26912962 0.25758297 0.25209768\n",
            " 0.25372574 0.2560551  0.26652473 0.26865373 0.25993738 0.27529117\n",
            " 0.2841077  0.28731371 0.29931121 0.30301816 0.3051722  0.31594239\n",
            " 0.30239198 0.30983093 0.31949906 0.32055103 0.30567314 0.29390106\n",
            " 0.29422668 0.29335003 0.29597996 0.27977458 0.27714465 0.27832185\n",
            " 0.29194218 0.28875321 0.28653032 0.28493625 0.28368902 0.28261262\n",
            " 0.28161716 0.28066504 0.27974552 0.27885866 0.27800733 0.27719361\n",
            " 0.27641794 0.27567887 0.27497351 0.27429801]\n",
            "16 day output [[0.27364802]]\n",
            "17 day input [0.16190357 0.15827176 0.15529117 0.15731997 0.15524108 0.15714465\n",
            " 0.15431434 0.15737007 0.15263619 0.17082029 0.17460238 0.16493425\n",
            " 0.15664371 0.15318723 0.15078272 0.14567314 0.14777708 0.15043206\n",
            " 0.15574202 0.1579211  0.15644333 0.16696306 0.15902317 0.15644333\n",
            " 0.16578585 0.19170946 0.18752661 0.18925485 0.19010645 0.19469004\n",
            " 0.19088291 0.19897307 0.20185348 0.20758923 0.20788979 0.20796493\n",
            " 0.21089543 0.21417658 0.21054477 0.20047589 0.20824045 0.2082655\n",
            " 0.20901691 0.2115216  0.21392611 0.21838447 0.21918597 0.22299311\n",
            " 0.21951158 0.2255479  0.2161052  0.25124609 0.26607389 0.26900438\n",
            " 0.26462116 0.2750908  0.26912962 0.25758297 0.25209768 0.25372574\n",
            " 0.2560551  0.26652473 0.26865373 0.25993738 0.27529117 0.2841077\n",
            " 0.28731371 0.29931121 0.30301816 0.3051722  0.31594239 0.30239198\n",
            " 0.30983093 0.31949906 0.32055103 0.30567314 0.29390106 0.29422668\n",
            " 0.29335003 0.29597996 0.27977458 0.27714465 0.27832185 0.29194218\n",
            " 0.28875321 0.28653032 0.28493625 0.28368902 0.28261262 0.28161716\n",
            " 0.28066504 0.27974552 0.27885866 0.27800733 0.27719361 0.27641794\n",
            " 0.27567887 0.27497351 0.27429801 0.27364802]\n",
            "17 day output [[0.27301887]]\n",
            "18 day input [0.15827176 0.15529117 0.15731997 0.15524108 0.15714465 0.15431434\n",
            " 0.15737007 0.15263619 0.17082029 0.17460238 0.16493425 0.15664371\n",
            " 0.15318723 0.15078272 0.14567314 0.14777708 0.15043206 0.15574202\n",
            " 0.1579211  0.15644333 0.16696306 0.15902317 0.15644333 0.16578585\n",
            " 0.19170946 0.18752661 0.18925485 0.19010645 0.19469004 0.19088291\n",
            " 0.19897307 0.20185348 0.20758923 0.20788979 0.20796493 0.21089543\n",
            " 0.21417658 0.21054477 0.20047589 0.20824045 0.2082655  0.20901691\n",
            " 0.2115216  0.21392611 0.21838447 0.21918597 0.22299311 0.21951158\n",
            " 0.2255479  0.2161052  0.25124609 0.26607389 0.26900438 0.26462116\n",
            " 0.2750908  0.26912962 0.25758297 0.25209768 0.25372574 0.2560551\n",
            " 0.26652473 0.26865373 0.25993738 0.27529117 0.2841077  0.28731371\n",
            " 0.29931121 0.30301816 0.3051722  0.31594239 0.30239198 0.30983093\n",
            " 0.31949906 0.32055103 0.30567314 0.29390106 0.29422668 0.29335003\n",
            " 0.29597996 0.27977458 0.27714465 0.27832185 0.29194218 0.28875321\n",
            " 0.28653032 0.28493625 0.28368902 0.28261262 0.28161716 0.28066504\n",
            " 0.27974552 0.27885866 0.27800733 0.27719361 0.27641794 0.27567887\n",
            " 0.27497351 0.27429801 0.27364802 0.27301887]\n",
            "18 day output [[0.27240574]]\n",
            "19 day input [0.15529117 0.15731997 0.15524108 0.15714465 0.15431434 0.15737007\n",
            " 0.15263619 0.17082029 0.17460238 0.16493425 0.15664371 0.15318723\n",
            " 0.15078272 0.14567314 0.14777708 0.15043206 0.15574202 0.1579211\n",
            " 0.15644333 0.16696306 0.15902317 0.15644333 0.16578585 0.19170946\n",
            " 0.18752661 0.18925485 0.19010645 0.19469004 0.19088291 0.19897307\n",
            " 0.20185348 0.20758923 0.20788979 0.20796493 0.21089543 0.21417658\n",
            " 0.21054477 0.20047589 0.20824045 0.2082655  0.20901691 0.2115216\n",
            " 0.21392611 0.21838447 0.21918597 0.22299311 0.21951158 0.2255479\n",
            " 0.2161052  0.25124609 0.26607389 0.26900438 0.26462116 0.2750908\n",
            " 0.26912962 0.25758297 0.25209768 0.25372574 0.2560551  0.26652473\n",
            " 0.26865373 0.25993738 0.27529117 0.2841077  0.28731371 0.29931121\n",
            " 0.30301816 0.3051722  0.31594239 0.30239198 0.30983093 0.31949906\n",
            " 0.32055103 0.30567314 0.29390106 0.29422668 0.29335003 0.29597996\n",
            " 0.27977458 0.27714465 0.27832185 0.29194218 0.28875321 0.28653032\n",
            " 0.28493625 0.28368902 0.28261262 0.28161716 0.28066504 0.27974552\n",
            " 0.27885866 0.27800733 0.27719361 0.27641794 0.27567887 0.27497351\n",
            " 0.27429801 0.27364802 0.27301887 0.27240574]\n",
            "19 day output [[0.27180436]]\n",
            "20 day input [0.15731997 0.15524108 0.15714465 0.15431434 0.15737007 0.15263619\n",
            " 0.17082029 0.17460238 0.16493425 0.15664371 0.15318723 0.15078272\n",
            " 0.14567314 0.14777708 0.15043206 0.15574202 0.1579211  0.15644333\n",
            " 0.16696306 0.15902317 0.15644333 0.16578585 0.19170946 0.18752661\n",
            " 0.18925485 0.19010645 0.19469004 0.19088291 0.19897307 0.20185348\n",
            " 0.20758923 0.20788979 0.20796493 0.21089543 0.21417658 0.21054477\n",
            " 0.20047589 0.20824045 0.2082655  0.20901691 0.2115216  0.21392611\n",
            " 0.21838447 0.21918597 0.22299311 0.21951158 0.2255479  0.2161052\n",
            " 0.25124609 0.26607389 0.26900438 0.26462116 0.2750908  0.26912962\n",
            " 0.25758297 0.25209768 0.25372574 0.2560551  0.26652473 0.26865373\n",
            " 0.25993738 0.27529117 0.2841077  0.28731371 0.29931121 0.30301816\n",
            " 0.3051722  0.31594239 0.30239198 0.30983093 0.31949906 0.32055103\n",
            " 0.30567314 0.29390106 0.29422668 0.29335003 0.29597996 0.27977458\n",
            " 0.27714465 0.27832185 0.29194218 0.28875321 0.28653032 0.28493625\n",
            " 0.28368902 0.28261262 0.28161716 0.28066504 0.27974552 0.27885866\n",
            " 0.27800733 0.27719361 0.27641794 0.27567887 0.27497351 0.27429801\n",
            " 0.27364802 0.27301887 0.27240574 0.27180436]\n",
            "20 day output [[0.27121025]]\n",
            "21 day input [0.15524108 0.15714465 0.15431434 0.15737007 0.15263619 0.17082029\n",
            " 0.17460238 0.16493425 0.15664371 0.15318723 0.15078272 0.14567314\n",
            " 0.14777708 0.15043206 0.15574202 0.1579211  0.15644333 0.16696306\n",
            " 0.15902317 0.15644333 0.16578585 0.19170946 0.18752661 0.18925485\n",
            " 0.19010645 0.19469004 0.19088291 0.19897307 0.20185348 0.20758923\n",
            " 0.20788979 0.20796493 0.21089543 0.21417658 0.21054477 0.20047589\n",
            " 0.20824045 0.2082655  0.20901691 0.2115216  0.21392611 0.21838447\n",
            " 0.21918597 0.22299311 0.21951158 0.2255479  0.2161052  0.25124609\n",
            " 0.26607389 0.26900438 0.26462116 0.2750908  0.26912962 0.25758297\n",
            " 0.25209768 0.25372574 0.2560551  0.26652473 0.26865373 0.25993738\n",
            " 0.27529117 0.2841077  0.28731371 0.29931121 0.30301816 0.3051722\n",
            " 0.31594239 0.30239198 0.30983093 0.31949906 0.32055103 0.30567314\n",
            " 0.29390106 0.29422668 0.29335003 0.29597996 0.27977458 0.27714465\n",
            " 0.27832185 0.29194218 0.28875321 0.28653032 0.28493625 0.28368902\n",
            " 0.28261262 0.28161716 0.28066504 0.27974552 0.27885866 0.27800733\n",
            " 0.27719361 0.27641794 0.27567887 0.27497351 0.27429801 0.27364802\n",
            " 0.27301887 0.27240574 0.27180436 0.27121025]\n",
            "21 day output [[0.27061957]]\n",
            "22 day input [0.15714465 0.15431434 0.15737007 0.15263619 0.17082029 0.17460238\n",
            " 0.16493425 0.15664371 0.15318723 0.15078272 0.14567314 0.14777708\n",
            " 0.15043206 0.15574202 0.1579211  0.15644333 0.16696306 0.15902317\n",
            " 0.15644333 0.16578585 0.19170946 0.18752661 0.18925485 0.19010645\n",
            " 0.19469004 0.19088291 0.19897307 0.20185348 0.20758923 0.20788979\n",
            " 0.20796493 0.21089543 0.21417658 0.21054477 0.20047589 0.20824045\n",
            " 0.2082655  0.20901691 0.2115216  0.21392611 0.21838447 0.21918597\n",
            " 0.22299311 0.21951158 0.2255479  0.2161052  0.25124609 0.26607389\n",
            " 0.26900438 0.26462116 0.2750908  0.26912962 0.25758297 0.25209768\n",
            " 0.25372574 0.2560551  0.26652473 0.26865373 0.25993738 0.27529117\n",
            " 0.2841077  0.28731371 0.29931121 0.30301816 0.3051722  0.31594239\n",
            " 0.30239198 0.30983093 0.31949906 0.32055103 0.30567314 0.29390106\n",
            " 0.29422668 0.29335003 0.29597996 0.27977458 0.27714465 0.27832185\n",
            " 0.29194218 0.28875321 0.28653032 0.28493625 0.28368902 0.28261262\n",
            " 0.28161716 0.28066504 0.27974552 0.27885866 0.27800733 0.27719361\n",
            " 0.27641794 0.27567887 0.27497351 0.27429801 0.27364802 0.27301887\n",
            " 0.27240574 0.27180436 0.27121025 0.27061957]\n",
            "22 day output [[0.2700291]]\n",
            "23 day input [0.15431434 0.15737007 0.15263619 0.17082029 0.17460238 0.16493425\n",
            " 0.15664371 0.15318723 0.15078272 0.14567314 0.14777708 0.15043206\n",
            " 0.15574202 0.1579211  0.15644333 0.16696306 0.15902317 0.15644333\n",
            " 0.16578585 0.19170946 0.18752661 0.18925485 0.19010645 0.19469004\n",
            " 0.19088291 0.19897307 0.20185348 0.20758923 0.20788979 0.20796493\n",
            " 0.21089543 0.21417658 0.21054477 0.20047589 0.20824045 0.2082655\n",
            " 0.20901691 0.2115216  0.21392611 0.21838447 0.21918597 0.22299311\n",
            " 0.21951158 0.2255479  0.2161052  0.25124609 0.26607389 0.26900438\n",
            " 0.26462116 0.2750908  0.26912962 0.25758297 0.25209768 0.25372574\n",
            " 0.2560551  0.26652473 0.26865373 0.25993738 0.27529117 0.2841077\n",
            " 0.28731371 0.29931121 0.30301816 0.3051722  0.31594239 0.30239198\n",
            " 0.30983093 0.31949906 0.32055103 0.30567314 0.29390106 0.29422668\n",
            " 0.29335003 0.29597996 0.27977458 0.27714465 0.27832185 0.29194218\n",
            " 0.28875321 0.28653032 0.28493625 0.28368902 0.28261262 0.28161716\n",
            " 0.28066504 0.27974552 0.27885866 0.27800733 0.27719361 0.27641794\n",
            " 0.27567887 0.27497351 0.27429801 0.27364802 0.27301887 0.27240574\n",
            " 0.27180436 0.27121025 0.27061957 0.2700291 ]\n",
            "23 day output [[0.26943576]]\n",
            "24 day input [0.15737007 0.15263619 0.17082029 0.17460238 0.16493425 0.15664371\n",
            " 0.15318723 0.15078272 0.14567314 0.14777708 0.15043206 0.15574202\n",
            " 0.1579211  0.15644333 0.16696306 0.15902317 0.15644333 0.16578585\n",
            " 0.19170946 0.18752661 0.18925485 0.19010645 0.19469004 0.19088291\n",
            " 0.19897307 0.20185348 0.20758923 0.20788979 0.20796493 0.21089543\n",
            " 0.21417658 0.21054477 0.20047589 0.20824045 0.2082655  0.20901691\n",
            " 0.2115216  0.21392611 0.21838447 0.21918597 0.22299311 0.21951158\n",
            " 0.2255479  0.2161052  0.25124609 0.26607389 0.26900438 0.26462116\n",
            " 0.2750908  0.26912962 0.25758297 0.25209768 0.25372574 0.2560551\n",
            " 0.26652473 0.26865373 0.25993738 0.27529117 0.2841077  0.28731371\n",
            " 0.29931121 0.30301816 0.3051722  0.31594239 0.30239198 0.30983093\n",
            " 0.31949906 0.32055103 0.30567314 0.29390106 0.29422668 0.29335003\n",
            " 0.29597996 0.27977458 0.27714465 0.27832185 0.29194218 0.28875321\n",
            " 0.28653032 0.28493625 0.28368902 0.28261262 0.28161716 0.28066504\n",
            " 0.27974552 0.27885866 0.27800733 0.27719361 0.27641794 0.27567887\n",
            " 0.27497351 0.27429801 0.27364802 0.27301887 0.27240574 0.27180436\n",
            " 0.27121025 0.27061957 0.2700291  0.26943576]\n",
            "24 day output [[0.2688372]]\n",
            "25 day input [0.15263619 0.17082029 0.17460238 0.16493425 0.15664371 0.15318723\n",
            " 0.15078272 0.14567314 0.14777708 0.15043206 0.15574202 0.1579211\n",
            " 0.15644333 0.16696306 0.15902317 0.15644333 0.16578585 0.19170946\n",
            " 0.18752661 0.18925485 0.19010645 0.19469004 0.19088291 0.19897307\n",
            " 0.20185348 0.20758923 0.20788979 0.20796493 0.21089543 0.21417658\n",
            " 0.21054477 0.20047589 0.20824045 0.2082655  0.20901691 0.2115216\n",
            " 0.21392611 0.21838447 0.21918597 0.22299311 0.21951158 0.2255479\n",
            " 0.2161052  0.25124609 0.26607389 0.26900438 0.26462116 0.2750908\n",
            " 0.26912962 0.25758297 0.25209768 0.25372574 0.2560551  0.26652473\n",
            " 0.26865373 0.25993738 0.27529117 0.2841077  0.28731371 0.29931121\n",
            " 0.30301816 0.3051722  0.31594239 0.30239198 0.30983093 0.31949906\n",
            " 0.32055103 0.30567314 0.29390106 0.29422668 0.29335003 0.29597996\n",
            " 0.27977458 0.27714465 0.27832185 0.29194218 0.28875321 0.28653032\n",
            " 0.28493625 0.28368902 0.28261262 0.28161716 0.28066504 0.27974552\n",
            " 0.27885866 0.27800733 0.27719361 0.27641794 0.27567887 0.27497351\n",
            " 0.27429801 0.27364802 0.27301887 0.27240574 0.27180436 0.27121025\n",
            " 0.27061957 0.2700291  0.26943576 0.26883721]\n",
            "25 day output [[0.26823163]]\n",
            "26 day input [0.17082029 0.17460238 0.16493425 0.15664371 0.15318723 0.15078272\n",
            " 0.14567314 0.14777708 0.15043206 0.15574202 0.1579211  0.15644333\n",
            " 0.16696306 0.15902317 0.15644333 0.16578585 0.19170946 0.18752661\n",
            " 0.18925485 0.19010645 0.19469004 0.19088291 0.19897307 0.20185348\n",
            " 0.20758923 0.20788979 0.20796493 0.21089543 0.21417658 0.21054477\n",
            " 0.20047589 0.20824045 0.2082655  0.20901691 0.2115216  0.21392611\n",
            " 0.21838447 0.21918597 0.22299311 0.21951158 0.2255479  0.2161052\n",
            " 0.25124609 0.26607389 0.26900438 0.26462116 0.2750908  0.26912962\n",
            " 0.25758297 0.25209768 0.25372574 0.2560551  0.26652473 0.26865373\n",
            " 0.25993738 0.27529117 0.2841077  0.28731371 0.29931121 0.30301816\n",
            " 0.3051722  0.31594239 0.30239198 0.30983093 0.31949906 0.32055103\n",
            " 0.30567314 0.29390106 0.29422668 0.29335003 0.29597996 0.27977458\n",
            " 0.27714465 0.27832185 0.29194218 0.28875321 0.28653032 0.28493625\n",
            " 0.28368902 0.28261262 0.28161716 0.28066504 0.27974552 0.27885866\n",
            " 0.27800733 0.27719361 0.27641794 0.27567887 0.27497351 0.27429801\n",
            " 0.27364802 0.27301887 0.27240574 0.27180436 0.27121025 0.27061957\n",
            " 0.2700291  0.26943576 0.26883721 0.26823163]\n",
            "26 day output [[0.2676177]]\n",
            "27 day input [0.17460238 0.16493425 0.15664371 0.15318723 0.15078272 0.14567314\n",
            " 0.14777708 0.15043206 0.15574202 0.1579211  0.15644333 0.16696306\n",
            " 0.15902317 0.15644333 0.16578585 0.19170946 0.18752661 0.18925485\n",
            " 0.19010645 0.19469004 0.19088291 0.19897307 0.20185348 0.20758923\n",
            " 0.20788979 0.20796493 0.21089543 0.21417658 0.21054477 0.20047589\n",
            " 0.20824045 0.2082655  0.20901691 0.2115216  0.21392611 0.21838447\n",
            " 0.21918597 0.22299311 0.21951158 0.2255479  0.2161052  0.25124609\n",
            " 0.26607389 0.26900438 0.26462116 0.2750908  0.26912962 0.25758297\n",
            " 0.25209768 0.25372574 0.2560551  0.26652473 0.26865373 0.25993738\n",
            " 0.27529117 0.2841077  0.28731371 0.29931121 0.30301816 0.3051722\n",
            " 0.31594239 0.30239198 0.30983093 0.31949906 0.32055103 0.30567314\n",
            " 0.29390106 0.29422668 0.29335003 0.29597996 0.27977458 0.27714465\n",
            " 0.27832185 0.29194218 0.28875321 0.28653032 0.28493625 0.28368902\n",
            " 0.28261262 0.28161716 0.28066504 0.27974552 0.27885866 0.27800733\n",
            " 0.27719361 0.27641794 0.27567887 0.27497351 0.27429801 0.27364802\n",
            " 0.27301887 0.27240574 0.27180436 0.27121025 0.27061957 0.2700291\n",
            " 0.26943576 0.26883721 0.26823163 0.2676177 ]\n",
            "27 day output [[0.26699442]]\n",
            "28 day input [0.16493425 0.15664371 0.15318723 0.15078272 0.14567314 0.14777708\n",
            " 0.15043206 0.15574202 0.1579211  0.15644333 0.16696306 0.15902317\n",
            " 0.15644333 0.16578585 0.19170946 0.18752661 0.18925485 0.19010645\n",
            " 0.19469004 0.19088291 0.19897307 0.20185348 0.20758923 0.20788979\n",
            " 0.20796493 0.21089543 0.21417658 0.21054477 0.20047589 0.20824045\n",
            " 0.2082655  0.20901691 0.2115216  0.21392611 0.21838447 0.21918597\n",
            " 0.22299311 0.21951158 0.2255479  0.2161052  0.25124609 0.26607389\n",
            " 0.26900438 0.26462116 0.2750908  0.26912962 0.25758297 0.25209768\n",
            " 0.25372574 0.2560551  0.26652473 0.26865373 0.25993738 0.27529117\n",
            " 0.2841077  0.28731371 0.29931121 0.30301816 0.3051722  0.31594239\n",
            " 0.30239198 0.30983093 0.31949906 0.32055103 0.30567314 0.29390106\n",
            " 0.29422668 0.29335003 0.29597996 0.27977458 0.27714465 0.27832185\n",
            " 0.29194218 0.28875321 0.28653032 0.28493625 0.28368902 0.28261262\n",
            " 0.28161716 0.28066504 0.27974552 0.27885866 0.27800733 0.27719361\n",
            " 0.27641794 0.27567887 0.27497351 0.27429801 0.27364802 0.27301887\n",
            " 0.27240574 0.27180436 0.27121025 0.27061957 0.2700291  0.26943576\n",
            " 0.26883721 0.26823163 0.2676177  0.26699442]\n",
            "28 day output [[0.26636147]]\n",
            "29 day input [0.15664371 0.15318723 0.15078272 0.14567314 0.14777708 0.15043206\n",
            " 0.15574202 0.1579211  0.15644333 0.16696306 0.15902317 0.15644333\n",
            " 0.16578585 0.19170946 0.18752661 0.18925485 0.19010645 0.19469004\n",
            " 0.19088291 0.19897307 0.20185348 0.20758923 0.20788979 0.20796493\n",
            " 0.21089543 0.21417658 0.21054477 0.20047589 0.20824045 0.2082655\n",
            " 0.20901691 0.2115216  0.21392611 0.21838447 0.21918597 0.22299311\n",
            " 0.21951158 0.2255479  0.2161052  0.25124609 0.26607389 0.26900438\n",
            " 0.26462116 0.2750908  0.26912962 0.25758297 0.25209768 0.25372574\n",
            " 0.2560551  0.26652473 0.26865373 0.25993738 0.27529117 0.2841077\n",
            " 0.28731371 0.29931121 0.30301816 0.3051722  0.31594239 0.30239198\n",
            " 0.30983093 0.31949906 0.32055103 0.30567314 0.29390106 0.29422668\n",
            " 0.29335003 0.29597996 0.27977458 0.27714465 0.27832185 0.29194218\n",
            " 0.28875321 0.28653032 0.28493625 0.28368902 0.28261262 0.28161716\n",
            " 0.28066504 0.27974552 0.27885866 0.27800733 0.27719361 0.27641794\n",
            " 0.27567887 0.27497351 0.27429801 0.27364802 0.27301887 0.27240574\n",
            " 0.27180436 0.27121025 0.27061957 0.2700291  0.26943576 0.26883721\n",
            " 0.26823163 0.2676177  0.26699442 0.26636147]\n",
            "29 day output [[0.2657188]]\n",
            "[[0.29194217920303345], [0.2887532114982605], [0.2865303158760071], [0.28493624925613403], [0.283689022064209], [0.2826126217842102], [0.2816171646118164], [0.2806650400161743], [0.27974551916122437], [0.27885866165161133], [0.2780073285102844], [0.2771936058998108], [0.27641794085502625], [0.2756788730621338], [0.2749735116958618], [0.2742980122566223], [0.2736480236053467], [0.27301886677742004], [0.272405743598938], [0.2718043625354767], [0.271210253238678], [0.27061957120895386], [0.27002909779548645], [0.2694357633590698], [0.26883721351623535], [0.2682316303253174], [0.26761770248413086], [0.2669944167137146], [0.2663614749908447], [0.2657187879085541]]\n"
          ]
        }
      ]
    },
    {
      "cell_type": "code",
      "source": [
        "day_new=np.arange(1,101)\n",
        "day_pred=np.arange(101,131)\n"
      ],
      "metadata": {
        "id": "X9JUN90ZdSxV"
      },
      "execution_count": 40,
      "outputs": []
    },
    {
      "cell_type": "code",
      "source": [
        "plt.plot(day_new,sc.inverse_transform(df1[1158:]))\n",
        "plt.plot(day_pred,sc.inverse_transform(lst_output))"
      ],
      "metadata": {
        "colab": {
          "base_uri": "https://localhost:8080/",
          "height": 158
        },
        "id": "NsDKJ-LxdYkf",
        "outputId": "0010af24-f3f4-4aa0-d7ee-99c687dd5f55"
      },
      "execution_count": 42,
      "outputs": [
        {
          "output_type": "error",
          "ename": "NameError",
          "evalue": "name 'df1' is not defined",
          "traceback": [
            "\u001b[0;31m---------------------------------------------------------------------------\u001b[0m",
            "\u001b[0;31mNameError\u001b[0m                                 Traceback (most recent call last)",
            "\u001b[0;32m<ipython-input-42-3345ee299d0e>\u001b[0m in \u001b[0;36m<cell line: 1>\u001b[0;34m()\u001b[0m\n\u001b[0;32m----> 1\u001b[0;31m \u001b[0mplt\u001b[0m\u001b[0;34m.\u001b[0m\u001b[0mplot\u001b[0m\u001b[0;34m(\u001b[0m\u001b[0mday_new\u001b[0m\u001b[0;34m,\u001b[0m\u001b[0msc\u001b[0m\u001b[0;34m.\u001b[0m\u001b[0minverse_transform\u001b[0m\u001b[0;34m(\u001b[0m\u001b[0mdf1\u001b[0m\u001b[0;34m[\u001b[0m\u001b[0;36m1158\u001b[0m\u001b[0;34m:\u001b[0m\u001b[0;34m]\u001b[0m\u001b[0;34m)\u001b[0m\u001b[0;34m)\u001b[0m\u001b[0;34m\u001b[0m\u001b[0;34m\u001b[0m\u001b[0m\n\u001b[0m\u001b[1;32m      2\u001b[0m \u001b[0mplt\u001b[0m\u001b[0;34m.\u001b[0m\u001b[0mplot\u001b[0m\u001b[0;34m(\u001b[0m\u001b[0mday_pred\u001b[0m\u001b[0;34m,\u001b[0m\u001b[0msc\u001b[0m\u001b[0;34m.\u001b[0m\u001b[0minverse_transform\u001b[0m\u001b[0;34m(\u001b[0m\u001b[0mlst_output\u001b[0m\u001b[0;34m)\u001b[0m\u001b[0;34m)\u001b[0m\u001b[0;34m\u001b[0m\u001b[0;34m\u001b[0m\u001b[0m\n",
            "\u001b[0;31mNameError\u001b[0m: name 'df1' is not defined"
          ]
        }
      ]
    },
    {
      "cell_type": "code",
      "source": [
        "df3=df2.tolist()\n",
        "df3.extend(lst_output)\n",
        "plt.plot(df3[1200:])"
      ],
      "metadata": {
        "colab": {
          "base_uri": "https://localhost:8080/",
          "height": 447
        },
        "id": "2Vj3jLuUdaw8",
        "outputId": "7dfc78d9-33bb-47e1-bf92-3ca134378201"
      },
      "execution_count": 43,
      "outputs": [
        {
          "output_type": "execute_result",
          "data": {
            "text/plain": [
              "[<matplotlib.lines.Line2D at 0x7bcb4ae69300>]"
            ]
          },
          "metadata": {},
          "execution_count": 43
        },
        {
          "output_type": "display_data",
          "data": {
            "text/plain": [
              "<Figure size 640x480 with 1 Axes>"
            ],
            "image/png": "[encoded data removed]"
          },
          "metadata": {}
        }
      ]
    },
    {
      "cell_type": "code",
      "source": [],
      "metadata": {
        "id": "NFSvi7jBdh63"
      },
      "execution_count": null,
      "outputs": []
    }
  ]
}